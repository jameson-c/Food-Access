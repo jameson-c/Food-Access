{
 "cells": [
  {
   "attachments": {},
   "cell_type": "markdown",
   "id": "189f7315",
   "metadata": {},
   "source": [
    "## Baseline model\n",
    "\n",
    "Creates the baseline model, and gets results for placing one new grocery store.\n",
    "\n",
    "Inputs: \n",
    "- relevant_buildings.shp\n",
    "\n",
    "Pre-optimiation setup:\n",
    "1. Use the helper_population_allocation.py to allocate a population count to each residential building \n",
    "2. Use the helper_distance_calculation.py to calculate existing access and distance between a residential and commercial building\n",
    "3. Use the helper_distance_calculation.py to calculate existing access to grocery stores for each residential building (0.5 mile)\n",
    "4. Once 1-3 are done, all parameters are ready. \n",
    "\n",
    "Baseline model methodology and output:\n",
    "1. We found the neighborhood that has the highest population experiencing food apartheid, as per USDA data; 'Central Oakland'\n",
    "2. This file processes the buildings data, filters to the relevant census tract for Central Oakland, and draws a random commercial building\n",
    "3. Based on this chosen commercial building, calculates marginal new access created by a grocery store placed in that building. This is the output for the baseline model"
   ]
  },
  {
   "cell_type": "code",
   "execution_count": 1,
   "id": "1ab60fad",
   "metadata": {},
   "outputs": [],
   "source": [
    "# Import libraries\n",
    "import geopandas as gpd\n",
    "import pandas as pd\n",
    "import matplotlib.pyplot as plt\n",
    "import numpy as np\n",
    "import haversine as hs\n",
    "import gurobipy as gp\n",
    "from gurobipy import GRB\n",
    "\n",
    "# Helper modules: includes functions to calculate distance and estimate populations\n",
    "import helper_population_allocation as pa\n",
    "import helper_distance_calculation as dc\n",
    "\n",
    "# Avoid printing set copy warnings\n",
    "import warnings\n",
    "warnings.filterwarnings(\"ignore\")\n"
   ]
  },
  {
   "attachments": {},
   "cell_type": "markdown",
   "id": "6f0dd2ca",
   "metadata": {},
   "source": [
    "### PRE-OPTIMIZATION SETUP"
   ]
  },
  {
   "cell_type": "code",
   "execution_count": 2,
   "id": "a02b6039",
   "metadata": {},
   "outputs": [],
   "source": [
    "# Get the main buildings dataset \n",
    "buildings_df = gpd.read_file('../processed_data/relevant_buildings.shp')\n",
    "\n",
    "# Create building ID variable\n",
    "buildings_df.reset_index(drop=True, inplace=True)\n",
    "buildings_df['building_id'] = buildings_df.index + 1\n",
    "buildings_df['building_id'] = buildings_df.apply(lambda row: str(row['building_id']) + '-' + str(row['CLASS']) , axis=1)"
   ]
  },
  {
   "cell_type": "code",
   "execution_count": 3,
   "id": "0300c193",
   "metadata": {},
   "outputs": [],
   "source": [
    "# Create arrays to track ordering - map between numpy and dataframe (residential)\n",
    "res_buildings = buildings_df[buildings_df['class_reco'].str.contains('Residential')]\n",
    "res_buildings = res_buildings.sort_values('building_id')\n",
    "res_buildings = dc.get_geocoordinate(res_buildings, 'geometry')\n",
    "\n",
    "res_buildings_array = np.array(res_buildings['building_id'])    # ith element represents the building id of ith residential building\n",
    "res_buildings_coordinates_array = np.array(res_buildings['coordinates'])    # ith element represents the coordinates of the ith residential building"
   ]
  },
  {
   "cell_type": "code",
   "execution_count": 4,
   "id": "9b833182",
   "metadata": {},
   "outputs": [],
   "source": [
    "# Create arrays to track ordering - map between numpy and dataframe (Commercial)\n",
    "comm_buildings = buildings_df[buildings_df['class_reco'].str.contains('commercial')]\n",
    "comm_buildings = comm_buildings.sort_values('building_id')\n",
    "comm_buildings = dc.get_geocoordinate(comm_buildings, 'geometry')\n",
    "\n",
    "comm_buildings_array = np.array(comm_buildings['building_id'])  # ith element represents the building id of ith commercial building\n",
    "comm_buildings_coordinates_array = np.array(comm_buildings['coordinates'])  # ith element represents the coordinates of the ith commercial building\n"
   ]
  },
  {
   "cell_type": "code",
   "execution_count": 5,
   "id": "12d75c2e",
   "metadata": {},
   "outputs": [],
   "source": [
    "# Create arrays to track ordering (grocery stores)\n",
    "grocery_stores = buildings_df[buildings_df['class_reco'].str.contains('Grocery')]\n",
    "grocery_stores = grocery_stores.sort_values('building_id')\n",
    "grocery_stores = dc.get_geocoordinate(grocery_stores, 'geometry')\n",
    "\n",
    "grocery_stores_array = np.array(grocery_stores['building_id'])  # ith element represents the building id of ith grocery store\n",
    "grocery_stores_coordinates_array = np.array(grocery_stores['coordinates'])  # ith element represents the coordinates of the ith grocery store"
   ]
  },
  {
   "cell_type": "code",
   "execution_count": 6,
   "id": "e63c2566",
   "metadata": {},
   "outputs": [],
   "source": [
    "### Calculate pairwise distances ###\n",
    "\n",
    "# DONT RUN THIS AGAIN\n",
    "# WE have run this and stored the matrices in processed_data\n",
    "# This code block takes about 66 mins (more depending on CPU)\n",
    "\n",
    "# Create parameter matrices (Res comm access matrix - Bij)\n",
    "# [i,j] value indicates whether residential building i is within access distance of commercial building j\n",
    "# res_comm_distance_matrix, res_comm_access_matrix = dc.calculate_access(res_buildings_coordinates_array, comm_buildings_coordinates_array)\n",
    "\n",
    "# # Save file\n",
    "# np.save('../processed_data/res_comm_distance_matrix', res_comm_distance_matrix)"
   ]
  },
  {
   "cell_type": "code",
   "execution_count": 7,
   "id": "ed29bd63",
   "metadata": {},
   "outputs": [],
   "source": [
    "# Importing Distance Matrix (calculated and stored in previous cell)\n",
    "res_comm_distance_matrix = np.load('../processed_data/res_comm_distance_matrix.npy')\n",
    "\n",
    "# Creating a binary access matrix\n",
    "# [i,j] indicates whether residential building i and commercial building j are within 0.5 miles of each other\n",
    "res_comm_access_matrix_half_mile = res_comm_distance_matrix.copy()\n",
    "res_comm_access_matrix_half_mile[res_comm_access_matrix_half_mile <= 0.5] = 1\n",
    "res_comm_access_matrix_half_mile[res_comm_access_matrix_half_mile != 1] = 0"
   ]
  },
  {
   "cell_type": "code",
   "execution_count": 8,
   "id": "c712b666",
   "metadata": {},
   "outputs": [],
   "source": [
    "# Create parameter matrices (Res groc access array)\n",
    "# i-th entry indicates whether i-th residential building currently has access to grocery store within 0.5 miles\n",
    "res_groc_distance_matrix, res_groc_access_matrix = dc.calculate_access(res_buildings_coordinates_array, grocery_stores_coordinates_array)\n",
    "\n",
    "res_groc_access_matrix_half_mile = res_groc_distance_matrix.copy()\n",
    "res_groc_access_matrix_half_mile[res_groc_access_matrix_half_mile <= 0.5] = 1\n",
    "res_groc_access_matrix_half_mile[res_groc_access_matrix_half_mile != 1] = 0\n",
    "\n",
    "res_access_array_half_mile = np.amax(res_groc_access_matrix_half_mile, 1)\n"
   ]
  },
  {
   "cell_type": "code",
   "execution_count": 9,
   "id": "fd5e02b3",
   "metadata": {},
   "outputs": [],
   "source": [
    "# Create parameter matrices (Res Population - Pi)\n",
    "# ith value indicates the population of the ith residential building\n",
    "res_population = pa.get_population(buildings_df) \n",
    "res_population = res_population.drop_duplicates('building_id') # drop duplicates\n",
    "\n",
    "res_population = res_population.sort_values('building_id') # Just to be safe\n",
    "res_population_array = np.array(res_population['population'])\n"
   ]
  },
  {
   "attachments": {},
   "cell_type": "markdown",
   "id": "3b698ba9",
   "metadata": {},
   "source": [
    "### Baseline model: select building and get results"
   ]
  },
  {
   "cell_type": "code",
   "execution_count": 16,
   "id": "3f9aa73e",
   "metadata": {},
   "outputs": [
    {
     "name": "stdout",
     "output_type": "stream",
     "text": [
      "Chosen commercial building to place store in: 106749-C\n"
     ]
    }
   ],
   "source": [
    "# Get the relevant geoid for central oakland\n",
    "oakland_geoid = buildings_df[buildings_df[\"hood\"] == 'Central Oakland']['geoid10'].iloc[0]\n",
    "\n",
    "# Subset the commercial buildings to central oakland\n",
    "comm_buildings_geoid = comm_buildings[comm_buildings[\"geoid10\"] == str(oakland_geoid)]\n",
    "\n",
    "# Pick a random building within oakland\n",
    "random_build = comm_buildings_geoid.sample(n=1, random_state= 29)['building_id'].iloc[0]\n",
    "\n",
    "print(f\"Chosen commercial building to place store in: {random_build}\")\n",
    "\n",
    "# Get the corresponding index in the commercial buildings array\n",
    "chosen_building_index = np.where(comm_buildings_array == '106749-C')\n"
   ]
  },
  {
   "cell_type": "code",
   "execution_count": 17,
   "id": "1de85e94",
   "metadata": {},
   "outputs": [
    {
     "data": {
      "text/plain": [
       "18248"
      ]
     },
     "execution_count": 17,
     "metadata": {},
     "output_type": "execute_result"
    }
   ],
   "source": [
    "existing_access_indices = res_access_array_half_mile.nonzero()[0] # These are indices of residential buildings that currently have access\n",
    "res_comm_access_matrix_subset = np.delete(res_comm_access_matrix_half_mile, existing_access_indices, axis=0 )\n",
    "\n",
    "###########################\n",
    "# STEP 2: Do the same thing for res_population_array so that the ordering matches\n",
    "###########################\n",
    "res_population_array_sub = np.delete(res_population_array, existing_access_indices, axis=0)\n",
    "\n",
    "len(res_population_array_sub)"
   ]
  },
  {
   "cell_type": "code",
   "execution_count": 18,
   "id": "718617bc",
   "metadata": {},
   "outputs": [],
   "source": [
    "# Calculating new access generated by each commercial building\n",
    "\n",
    "###########################\n",
    "# STEP 1: Take the res_comm_access_matrix, remove those rows (each row represents a residential building) which have existing access\n",
    "###########################\n",
    "existing_access_indices = res_access_array_half_mile.nonzero()[0] # These are indices of residential buildings that currently have access\n",
    "res_comm_access_matrix_subset = np.delete(res_comm_access_matrix_half_mile, existing_access_indices, axis=0 )\n",
    "\n",
    "###########################\n",
    "# STEP 2: Do the same thing for res_population_array so that the ordering matches\n",
    "###########################\n",
    "res_population_array_sub = np.delete(res_population_array, existing_access_indices, axis=0)\n",
    "\n",
    "###########################\n",
    "# STEP 3: Do a matrix multiplication between res_population_array_sub and res_comm_access_matrix_sub\n",
    "###########################\n",
    "\n",
    "# How this works:\n",
    "# 1. Reshape res_population_array_sub to be (1 * 18248) 2D array\n",
    "# 2. res_comm_access_matrix_sub is (18248 * 6895)\n",
    "# 3. When you do matrix multiplication of 1 and 2, you get a (1*6895) array\n",
    "# 4. Each element of this array would represent the sum of the population at each residential building multiplied by whether that residential building and that particular commercial building\n",
    "# are within access region. So for example, first element of this result would be P0 * whether res building 0 and comm building 0 are within access + P1 * whether res building 1 and comm building 0 are within access and so on\n",
    "# So each element of the result represents the total new population that would gain access if a commercial building is put at that index\n",
    "\n",
    "res_population_array_sub = np.reshape(res_population_array_sub, (-1, len(res_population_array_sub)))\n",
    "new_access_array = np.matmul(res_population_array_sub, res_comm_access_matrix_subset) # The result contains the marginal population access for each commercial building"
   ]
  },
  {
   "cell_type": "code",
   "execution_count": 22,
   "id": "0ad7085a",
   "metadata": {},
   "outputs": [
    {
     "name": "stdout",
     "output_type": "stream",
     "text": [
      "The baseline model gives access to 1976.5699999999913 new people.\n"
     ]
    }
   ],
   "source": [
    "# Subset this matrix to our relevant chosen store by baseline method, to get the final result\n",
    "new_people_given_access = new_access_array[0,chosen_building_index][0][0]\n",
    "\n",
    "print(f\"The baseline model gives access to {new_people_given_access} new people.\")"
   ]
  }
 ],
 "metadata": {
  "kernelspec": {
   "display_name": "base",
   "language": "python",
   "name": "python3"
  },
  "language_info": {
   "codemirror_mode": {
    "name": "ipython",
    "version": 3
   },
   "file_extension": ".py",
   "mimetype": "text/x-python",
   "name": "python",
   "nbconvert_exporter": "python",
   "pygments_lexer": "ipython3",
   "version": "3.8.8 (default, Apr 13 2021, 15:08:03) [MSC v.1916 64 bit (AMD64)]"
  },
  "vscode": {
   "interpreter": {
    "hash": "47c626452ef4ef3e74376d35c302fcf9bdc1b9327d6e04736eb914a557504e89"
   }
  }
 },
 "nbformat": 4,
 "nbformat_minor": 5
}
