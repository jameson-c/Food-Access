{
 "cells": [
  {
   "cell_type": "code",
   "execution_count": 3,
   "id": "1ab60fad",
   "metadata": {},
   "outputs": [],
   "source": [
    "import geopandas as gpd\n",
    "import pandas as pd\n",
    "import matplotlib.pyplot as plt\n",
    "import numpy as np\n",
    "import haversine as hs\n",
    "\n",
    "# Helper modules\n",
    "import helper_population_allocation as pa\n",
    "import helper_distance_calculation as dc\n",
    "\n"
   ]
  },
  {
   "cell_type": "code",
   "execution_count": 4,
   "id": "a02b6039",
   "metadata": {},
   "outputs": [],
   "source": [
    "buildings_df = gpd.read_file('../processed_data/relevant_buildings.shp')\n"
   ]
  },
  {
   "cell_type": "code",
   "execution_count": 5,
   "id": "ed29bd63",
   "metadata": {},
   "outputs": [],
   "source": [
    "res_comm_access_buildings = np.load('../processed_data/res_comm_access_matrix.npy')\n",
    "res_comm_distance_matrix = np.load('../processed_data/res_comm_distance_matrix.npy')"
   ]
  },
  {
   "cell_type": "code",
   "execution_count": 6,
   "id": "fd5e02b3",
   "metadata": {},
   "outputs": [
    {
     "ename": "ImportError",
     "evalue": "Spatial indexes require either `rtree` or `pygeos`. See installation instructions at https://geopandas.org/install.html",
     "output_type": "error",
     "traceback": [
      "\u001b[1;31m---------------------------------------------------------------------------\u001b[0m",
      "\u001b[1;31mImportError\u001b[0m                               Traceback (most recent call last)",
      "\u001b[1;32m~\\AppData\\Local\\Temp\\ipykernel_9588\\3583156999.py\u001b[0m in \u001b[0;36m<module>\u001b[1;34m\u001b[0m\n\u001b[0;32m      5\u001b[0m \u001b[1;33m\u001b[0m\u001b[0m\n\u001b[0;32m      6\u001b[0m \u001b[1;31m# Population parameter (Pj)\u001b[0m\u001b[1;33m\u001b[0m\u001b[1;33m\u001b[0m\u001b[1;33m\u001b[0m\u001b[0m\n\u001b[1;32m----> 7\u001b[1;33m \u001b[0mres_population\u001b[0m \u001b[1;33m=\u001b[0m \u001b[0mpa\u001b[0m\u001b[1;33m.\u001b[0m\u001b[0mget_population\u001b[0m\u001b[1;33m(\u001b[0m\u001b[0mgeopandas_dataframe\u001b[0m\u001b[1;33m=\u001b[0m\u001b[0mbuildings_df\u001b[0m\u001b[1;33m)\u001b[0m\u001b[1;33m\u001b[0m\u001b[1;33m\u001b[0m\u001b[0m\n\u001b[0m",
      "\u001b[1;32m~\\Documents\\Carnegie_Mellon\\Courses\\Fall 2022\\94-867 Decision Analytics for Business and Policy\\Final Project\\Github\\Food-Access\\processing_code\\helper_population_allocation.py\u001b[0m in \u001b[0;36mget_population\u001b[1;34m(geopandas_dataframe)\u001b[0m\n\u001b[0;32m     19\u001b[0m     \u001b[0mgeo_population\u001b[0m \u001b[1;33m=\u001b[0m \u001b[0mgpd\u001b[0m\u001b[1;33m.\u001b[0m\u001b[0mGeoDataFrame\u001b[0m\u001b[1;33m(\u001b[0m\u001b[0mpopulation\u001b[0m\u001b[1;33m,\u001b[0m \u001b[0mgeometry\u001b[0m \u001b[1;33m=\u001b[0m \u001b[1;34m'geometry'\u001b[0m\u001b[1;33m)\u001b[0m\u001b[1;33m.\u001b[0m\u001b[0mset_crs\u001b[0m\u001b[1;33m(\u001b[0m\u001b[0mres_buildings\u001b[0m\u001b[1;33m.\u001b[0m\u001b[0mcrs\u001b[0m\u001b[1;33m)\u001b[0m \u001b[1;31m# turn into polygons\u001b[0m\u001b[1;33m\u001b[0m\u001b[1;33m\u001b[0m\u001b[0m\n\u001b[0;32m     20\u001b[0m     \u001b[1;31m# Merge buildings with acs Data\u001b[0m\u001b[1;33m\u001b[0m\u001b[1;33m\u001b[0m\u001b[1;33m\u001b[0m\u001b[0m\n\u001b[1;32m---> 21\u001b[1;33m     \u001b[0mmerge\u001b[0m \u001b[1;33m=\u001b[0m \u001b[0mres_buildings\u001b[0m\u001b[1;33m.\u001b[0m\u001b[0msjoin\u001b[0m\u001b[1;33m(\u001b[0m\u001b[0mgeo_population\u001b[0m\u001b[1;33m,\u001b[0m \u001b[0mhow\u001b[0m\u001b[1;33m=\u001b[0m\u001b[1;34m'inner'\u001b[0m\u001b[1;33m)\u001b[0m\u001b[1;33m\u001b[0m\u001b[1;33m\u001b[0m\u001b[0m\n\u001b[0m\u001b[0;32m     22\u001b[0m \u001b[1;33m\u001b[0m\u001b[0m\n\u001b[0;32m     23\u001b[0m     \u001b[1;31m# generate initial popultion multiplier\u001b[0m\u001b[1;33m\u001b[0m\u001b[1;33m\u001b[0m\u001b[1;33m\u001b[0m\u001b[0m\n",
      "\u001b[1;32m~\\anaconda3\\envs\\myenv\\lib\\site-packages\\geopandas\\geodataframe.py\u001b[0m in \u001b[0;36msjoin\u001b[1;34m(self, df, *args, **kwargs)\u001b[0m\n\u001b[0;32m   1936\u001b[0m         \u001b[0msjoin\u001b[0m \u001b[1;33m:\u001b[0m \u001b[0mequivalent\u001b[0m \u001b[0mtop\u001b[0m\u001b[1;33m-\u001b[0m\u001b[0mlevel\u001b[0m \u001b[0mfunction\u001b[0m\u001b[1;33m\u001b[0m\u001b[1;33m\u001b[0m\u001b[0m\n\u001b[0;32m   1937\u001b[0m         \"\"\"\n\u001b[1;32m-> 1938\u001b[1;33m         \u001b[1;32mreturn\u001b[0m \u001b[0mgeopandas\u001b[0m\u001b[1;33m.\u001b[0m\u001b[0msjoin\u001b[0m\u001b[1;33m(\u001b[0m\u001b[0mleft_df\u001b[0m\u001b[1;33m=\u001b[0m\u001b[0mself\u001b[0m\u001b[1;33m,\u001b[0m \u001b[0mright_df\u001b[0m\u001b[1;33m=\u001b[0m\u001b[0mdf\u001b[0m\u001b[1;33m,\u001b[0m \u001b[1;33m*\u001b[0m\u001b[0margs\u001b[0m\u001b[1;33m,\u001b[0m \u001b[1;33m**\u001b[0m\u001b[0mkwargs\u001b[0m\u001b[1;33m)\u001b[0m\u001b[1;33m\u001b[0m\u001b[1;33m\u001b[0m\u001b[0m\n\u001b[0m\u001b[0;32m   1939\u001b[0m \u001b[1;33m\u001b[0m\u001b[0m\n\u001b[0;32m   1940\u001b[0m     def sjoin_nearest(\n",
      "\u001b[1;32m~\\anaconda3\\envs\\myenv\\lib\\site-packages\\geopandas\\tools\\sjoin.py\u001b[0m in \u001b[0;36msjoin\u001b[1;34m(left_df, right_df, how, predicate, lsuffix, rsuffix, **kwargs)\u001b[0m\n\u001b[0;32m    122\u001b[0m     \u001b[0m_basic_checks\u001b[0m\u001b[1;33m(\u001b[0m\u001b[0mleft_df\u001b[0m\u001b[1;33m,\u001b[0m \u001b[0mright_df\u001b[0m\u001b[1;33m,\u001b[0m \u001b[0mhow\u001b[0m\u001b[1;33m,\u001b[0m \u001b[0mlsuffix\u001b[0m\u001b[1;33m,\u001b[0m \u001b[0mrsuffix\u001b[0m\u001b[1;33m)\u001b[0m\u001b[1;33m\u001b[0m\u001b[1;33m\u001b[0m\u001b[0m\n\u001b[0;32m    123\u001b[0m \u001b[1;33m\u001b[0m\u001b[0m\n\u001b[1;32m--> 124\u001b[1;33m     \u001b[0mindices\u001b[0m \u001b[1;33m=\u001b[0m \u001b[0m_geom_predicate_query\u001b[0m\u001b[1;33m(\u001b[0m\u001b[0mleft_df\u001b[0m\u001b[1;33m,\u001b[0m \u001b[0mright_df\u001b[0m\u001b[1;33m,\u001b[0m \u001b[0mpredicate\u001b[0m\u001b[1;33m)\u001b[0m\u001b[1;33m\u001b[0m\u001b[1;33m\u001b[0m\u001b[0m\n\u001b[0m\u001b[0;32m    125\u001b[0m \u001b[1;33m\u001b[0m\u001b[0m\n\u001b[0;32m    126\u001b[0m     \u001b[0mjoined\u001b[0m \u001b[1;33m=\u001b[0m \u001b[0m_frame_join\u001b[0m\u001b[1;33m(\u001b[0m\u001b[0mindices\u001b[0m\u001b[1;33m,\u001b[0m \u001b[0mleft_df\u001b[0m\u001b[1;33m,\u001b[0m \u001b[0mright_df\u001b[0m\u001b[1;33m,\u001b[0m \u001b[0mhow\u001b[0m\u001b[1;33m,\u001b[0m \u001b[0mlsuffix\u001b[0m\u001b[1;33m,\u001b[0m \u001b[0mrsuffix\u001b[0m\u001b[1;33m)\u001b[0m\u001b[1;33m\u001b[0m\u001b[1;33m\u001b[0m\u001b[0m\n",
      "\u001b[1;32m~\\anaconda3\\envs\\myenv\\lib\\site-packages\\geopandas\\tools\\sjoin.py\u001b[0m in \u001b[0;36m_geom_predicate_query\u001b[1;34m(left_df, right_df, predicate)\u001b[0m\n\u001b[0;32m    214\u001b[0m             \u001b[1;31m# all other predicates are symmetric\u001b[0m\u001b[1;33m\u001b[0m\u001b[1;33m\u001b[0m\u001b[1;33m\u001b[0m\u001b[0m\n\u001b[0;32m    215\u001b[0m             \u001b[1;31m# keep them the same\u001b[0m\u001b[1;33m\u001b[0m\u001b[1;33m\u001b[0m\u001b[1;33m\u001b[0m\u001b[0m\n\u001b[1;32m--> 216\u001b[1;33m             \u001b[0msindex\u001b[0m \u001b[1;33m=\u001b[0m \u001b[0mright_df\u001b[0m\u001b[1;33m.\u001b[0m\u001b[0msindex\u001b[0m\u001b[1;33m\u001b[0m\u001b[1;33m\u001b[0m\u001b[0m\n\u001b[0m\u001b[0;32m    217\u001b[0m             \u001b[0minput_geoms\u001b[0m \u001b[1;33m=\u001b[0m \u001b[0mleft_df\u001b[0m\u001b[1;33m.\u001b[0m\u001b[0mgeometry\u001b[0m\u001b[1;33m\u001b[0m\u001b[1;33m\u001b[0m\u001b[0m\n\u001b[0;32m    218\u001b[0m \u001b[1;33m\u001b[0m\u001b[0m\n",
      "\u001b[1;32m~\\anaconda3\\envs\\myenv\\lib\\site-packages\\geopandas\\base.py\u001b[0m in \u001b[0;36msindex\u001b[1;34m(self)\u001b[0m\n\u001b[0;32m   2635\u001b[0m                [2]])\n\u001b[0;32m   2636\u001b[0m         \"\"\"\n\u001b[1;32m-> 2637\u001b[1;33m         \u001b[1;32mreturn\u001b[0m \u001b[0mself\u001b[0m\u001b[1;33m.\u001b[0m\u001b[0mgeometry\u001b[0m\u001b[1;33m.\u001b[0m\u001b[0mvalues\u001b[0m\u001b[1;33m.\u001b[0m\u001b[0msindex\u001b[0m\u001b[1;33m\u001b[0m\u001b[1;33m\u001b[0m\u001b[0m\n\u001b[0m\u001b[0;32m   2638\u001b[0m \u001b[1;33m\u001b[0m\u001b[0m\n\u001b[0;32m   2639\u001b[0m     \u001b[1;33m@\u001b[0m\u001b[0mproperty\u001b[0m\u001b[1;33m\u001b[0m\u001b[1;33m\u001b[0m\u001b[0m\n",
      "\u001b[1;32m~\\anaconda3\\envs\\myenv\\lib\\site-packages\\geopandas\\array.py\u001b[0m in \u001b[0;36msindex\u001b[1;34m(self)\u001b[0m\n\u001b[0;32m    290\u001b[0m     \u001b[1;32mdef\u001b[0m \u001b[0msindex\u001b[0m\u001b[1;33m(\u001b[0m\u001b[0mself\u001b[0m\u001b[1;33m)\u001b[0m\u001b[1;33m:\u001b[0m\u001b[1;33m\u001b[0m\u001b[1;33m\u001b[0m\u001b[0m\n\u001b[0;32m    291\u001b[0m         \u001b[1;32mif\u001b[0m \u001b[0mself\u001b[0m\u001b[1;33m.\u001b[0m\u001b[0m_sindex\u001b[0m \u001b[1;32mis\u001b[0m \u001b[1;32mNone\u001b[0m\u001b[1;33m:\u001b[0m\u001b[1;33m\u001b[0m\u001b[1;33m\u001b[0m\u001b[0m\n\u001b[1;32m--> 292\u001b[1;33m             \u001b[0mself\u001b[0m\u001b[1;33m.\u001b[0m\u001b[0m_sindex\u001b[0m \u001b[1;33m=\u001b[0m \u001b[0m_get_sindex_class\u001b[0m\u001b[1;33m(\u001b[0m\u001b[1;33m)\u001b[0m\u001b[1;33m(\u001b[0m\u001b[0mself\u001b[0m\u001b[1;33m.\u001b[0m\u001b[0mdata\u001b[0m\u001b[1;33m)\u001b[0m\u001b[1;33m\u001b[0m\u001b[1;33m\u001b[0m\u001b[0m\n\u001b[0m\u001b[0;32m    293\u001b[0m         \u001b[1;32mreturn\u001b[0m \u001b[0mself\u001b[0m\u001b[1;33m.\u001b[0m\u001b[0m_sindex\u001b[0m\u001b[1;33m\u001b[0m\u001b[1;33m\u001b[0m\u001b[0m\n\u001b[0;32m    294\u001b[0m \u001b[1;33m\u001b[0m\u001b[0m\n",
      "\u001b[1;32m~\\anaconda3\\envs\\myenv\\lib\\site-packages\\geopandas\\sindex.py\u001b[0m in \u001b[0;36m_get_sindex_class\u001b[1;34m()\u001b[0m\n\u001b[0;32m     20\u001b[0m         \u001b[1;32mreturn\u001b[0m \u001b[0mRTreeIndex\u001b[0m\u001b[1;33m\u001b[0m\u001b[1;33m\u001b[0m\u001b[0m\n\u001b[0;32m     21\u001b[0m     raise ImportError(\n\u001b[1;32m---> 22\u001b[1;33m         \u001b[1;34m\"Spatial indexes require either `rtree` or `pygeos`. \"\u001b[0m\u001b[1;33m\u001b[0m\u001b[1;33m\u001b[0m\u001b[0m\n\u001b[0m\u001b[0;32m     23\u001b[0m         \u001b[1;34m\"See installation instructions at https://geopandas.org/install.html\"\u001b[0m\u001b[1;33m\u001b[0m\u001b[1;33m\u001b[0m\u001b[0m\n\u001b[0;32m     24\u001b[0m     )\n",
      "\u001b[1;31mImportError\u001b[0m: Spatial indexes require either `rtree` or `pygeos`. See installation instructions at https://geopandas.org/install.html"
     ]
    }
   ],
   "source": [
    "# Create ID variable\n",
    "buildings_df.reset_index(drop=True, inplace=True)\n",
    "buildings_df['building_id'] = buildings_df.index + 1\n",
    "buildings_df['building_id'] = buildings_df.apply(lambda row: str(row['building_id']) + '-' + str(row['CLASS']) , axis=1)\n",
    "\n",
    "# Population parameter (Pj)\n",
    "res_population = pa.get_population(geopandas_dataframe=buildings_df) "
   ]
  },
  {
   "cell_type": "code",
   "execution_count": null,
   "id": "b65d8668",
   "metadata": {},
   "outputs": [],
   "source": [
    "buildings_df"
   ]
  },
  {
   "cell_type": "code",
   "execution_count": null,
   "id": "436d1a45",
   "metadata": {},
   "outputs": [],
   "source": [
    "set(buildings_df['hood'])"
   ]
  },
  {
   "cell_type": "code",
   "execution_count": null,
   "id": "f3f4a628",
   "metadata": {},
   "outputs": [],
   "source": [
    "type(buildings_df[\"geoid10\"].iloc[0])"
   ]
  },
  {
   "cell_type": "code",
   "execution_count": null,
   "id": "3f9aa73e",
   "metadata": {},
   "outputs": [],
   "source": [
    "buildings_df[buildings_df[\"hood\"] == 'Central Oakland']"
   ]
  },
  {
   "cell_type": "code",
   "execution_count": null,
   "id": "3ff955b3",
   "metadata": {},
   "outputs": [],
   "source": [
    "res_comm_access_buildings "
   ]
  },
  {
   "cell_type": "code",
   "execution_count": null,
   "id": "d28555b3",
   "metadata": {},
   "outputs": [],
   "source": [
    "res_comm_distance_matrix"
   ]
  },
  {
   "cell_type": "code",
   "execution_count": null,
   "id": "c0234f6c",
   "metadata": {},
   "outputs": [],
   "source": [
    "res_population"
   ]
  },
  {
   "cell_type": "code",
   "execution_count": null,
   "id": "643e56a7",
   "metadata": {},
   "outputs": [],
   "source": [
    "# Create arrays to track ordering (residential)\n",
    "res_buildings = buildings_df[buildings_df['class_reco'].str.contains('Residential')]\n",
    "res_buildings = res_buildings.sort_values('building_id')\n",
    "res_buildings = dc.get_geocoordinate(res_buildings, 'geometry')\n",
    "\n",
    "res_buildings_array = np.array(res_buildings['building_id'])\n",
    "res_buildings_coordinates_array = np.array(res_buildings['coordinates'])"
   ]
  },
  {
   "cell_type": "code",
   "execution_count": null,
   "id": "9a04822b",
   "metadata": {},
   "outputs": [],
   "source": [
    "# Create arrays to track ordering (Commercial)\n",
    "comm_buildings = buildings_df[buildings_df['class_reco'].str.contains('commercial')]\n",
    "comm_buildings = comm_buildings.sort_values('building_id')\n",
    "comm_buildings = dc.get_geocoordinate(comm_buildings, 'geometry')\n",
    "comm_buildings_geoid = comm_buildings[comm_buildings[\"geoid10\"] == str(420030406001)]\n",
    "\n",
    "#comm_buildings_geoid_array = np.array(comm_buildings_geoid['building_id'])\n",
    "comm_buildings_array = np.array(comm_buildings_geoid['building_id'])\n",
    "comm_buildings_coordinates_array = np.array(comm_buildings_geoid['coordinates'])\n"
   ]
  },
  {
   "cell_type": "code",
   "execution_count": null,
   "id": "c5447e8a",
   "metadata": {},
   "outputs": [],
   "source": [
    "comm_buildings_array"
   ]
  },
  {
   "cell_type": "code",
   "execution_count": null,
   "id": "a9eada68",
   "metadata": {},
   "outputs": [],
   "source": [
    "%%time\n",
    "\n",
    "# Create parameter matrices (Res Population - Pj)\n",
    "# ith value indicates the population in the ith column\n",
    "res_population = pa.get_population(geopandas_dataframe=res_buildings) \n",
    "res_population_array = np.array(res_population['population'])\n",
    "res_population_array\n",
    "\n"
   ]
  },
  {
   "cell_type": "code",
   "execution_count": 1,
   "id": "70818333",
   "metadata": {},
   "outputs": [
    {
     "ename": "NameError",
     "evalue": "name 'buildings_df' is not defined",
     "output_type": "error",
     "traceback": [
      "\u001b[1;31m---------------------------------------------------------------------------\u001b[0m",
      "\u001b[1;31mNameError\u001b[0m                                 Traceback (most recent call last)",
      "\u001b[1;32m~\\AppData\\Local\\Temp\\ipykernel_9588\\488745187.py\u001b[0m in \u001b[0;36m<module>\u001b[1;34m\u001b[0m\n\u001b[0;32m      1\u001b[0m \u001b[1;31m# Create arrays to track ordering (grocery stores)\u001b[0m\u001b[1;33m\u001b[0m\u001b[1;33m\u001b[0m\u001b[1;33m\u001b[0m\u001b[0m\n\u001b[1;32m----> 2\u001b[1;33m \u001b[0mgrocery_stores\u001b[0m \u001b[1;33m=\u001b[0m \u001b[0mbuildings_df\u001b[0m\u001b[1;33m[\u001b[0m\u001b[0mbuildings_df\u001b[0m\u001b[1;33m[\u001b[0m\u001b[1;34m'class_reco'\u001b[0m\u001b[1;33m]\u001b[0m\u001b[1;33m.\u001b[0m\u001b[0mstr\u001b[0m\u001b[1;33m.\u001b[0m\u001b[0mcontains\u001b[0m\u001b[1;33m(\u001b[0m\u001b[1;34m'Grocery'\u001b[0m\u001b[1;33m)\u001b[0m\u001b[1;33m]\u001b[0m\u001b[1;33m\u001b[0m\u001b[1;33m\u001b[0m\u001b[0m\n\u001b[0m\u001b[0;32m      3\u001b[0m \u001b[0mgrocery_stores\u001b[0m \u001b[1;33m=\u001b[0m \u001b[0mgrocery_stores\u001b[0m\u001b[1;33m.\u001b[0m\u001b[0msort_values\u001b[0m\u001b[1;33m(\u001b[0m\u001b[1;34m'building_id'\u001b[0m\u001b[1;33m)\u001b[0m\u001b[1;33m\u001b[0m\u001b[1;33m\u001b[0m\u001b[0m\n\u001b[0;32m      4\u001b[0m \u001b[0mgrocery_stores\u001b[0m \u001b[1;33m=\u001b[0m \u001b[0mdc\u001b[0m\u001b[1;33m.\u001b[0m\u001b[0mget_geocoordinate\u001b[0m\u001b[1;33m(\u001b[0m\u001b[0mgrocery_stores\u001b[0m\u001b[1;33m,\u001b[0m \u001b[1;34m'geometry'\u001b[0m\u001b[1;33m)\u001b[0m\u001b[1;33m\u001b[0m\u001b[1;33m\u001b[0m\u001b[0m\n\u001b[0;32m      5\u001b[0m \u001b[1;33m\u001b[0m\u001b[0m\n",
      "\u001b[1;31mNameError\u001b[0m: name 'buildings_df' is not defined"
     ]
    }
   ],
   "source": [
    "# Create arrays to track ordering (grocery stores)\n",
    "grocery_stores = buildings_df[buildings_df['class_reco'].str.contains('Grocery')]\n",
    "grocery_stores = grocery_stores.sort_values('building_id')\n",
    "grocery_stores = dc.get_geocoordinate(grocery_stores, 'geometry')\n",
    "\n",
    "grocery_stores_array = np.array(grocery_stores['building_id'])\n",
    "grocery_stores_coordinates_array = np.array(grocery_stores['coordinates'])\n"
   ]
  },
  {
   "cell_type": "code",
   "execution_count": 2,
   "id": "0ffc63c9",
   "metadata": {},
   "outputs": [
    {
     "ename": "NameError",
     "evalue": "name 'dc' is not defined",
     "output_type": "error",
     "traceback": [
      "\u001b[1;31m---------------------------------------------------------------------------\u001b[0m",
      "\u001b[1;31mNameError\u001b[0m                                 Traceback (most recent call last)",
      "\u001b[1;32m<timed exec>\u001b[0m in \u001b[0;36m<module>\u001b[1;34m\u001b[0m\n",
      "\u001b[1;31mNameError\u001b[0m: name 'dc' is not defined"
     ]
    }
   ],
   "source": [
    "%%time\n",
    "\n",
    "# Create parameter matrices (Res groc access array - Aj)\n",
    "# ith value indicates whether the ith residential building has existing access\n",
    "res_groc_distance_matrix, res_groc_access_matrix = dc.calculate_access(res_buildings_coordinates_array, grocery_stores_coordinates_array)\n",
    "res_access_array = np.amax(res_groc_access_matrix, 1)\n"
   ]
  },
  {
   "cell_type": "code",
   "execution_count": null,
   "id": "b56e917c",
   "metadata": {},
   "outputs": [],
   "source": [
    "random_build = comm_buildings_geoid.sample(n=1, random_state=1)"
   ]
  },
  {
   "cell_type": "code",
   "execution_count": null,
   "id": "59972945",
   "metadata": {},
   "outputs": [],
   "source": [
    "random_build "
   ]
  },
  {
   "cell_type": "code",
   "execution_count": null,
   "id": "da8fcd32",
   "metadata": {},
   "outputs": [],
   "source": [
    "np.where(comm_buildings_array == \"106710-C\")"
   ]
  },
  {
   "cell_type": "code",
   "execution_count": null,
   "id": "d0447908",
   "metadata": {},
   "outputs": [],
   "source": [
    "###########################\n",
    "# STEP 1: Take the res_comm_access_matrix, remove those rows (each row represents a residential building) which have existing access\n",
    "###########################\n",
    "existing_access_indices = res_access_array.nonzero()[0] # These are indices of residential buildings that currently have access\n",
    "res_comm_access_matrix_subset = np.delete(res_comm_access_matrix, existing_access_indices, axis=0 )\n",
    "\n",
    "###########################\n",
    "# STEP 2: Do the same thing for res_population_array so that the ordering matches\n",
    "###########################\n",
    "res_population_array_sub = np.delete(res_population_array, existing_access_indices, axis=0)\n",
    "\n",
    "###########################\n",
    "# STEP 3: Do a matrix multiplication between res_population_array_sub and res_comm_access_matrix_sub\n",
    "###########################\n",
    "\n",
    "# How this works:\n",
    "\n",
    "# 1. Reshape res_population_array_sub to be (1 * 2780) 2D array\n",
    "# 2. res_comm_access_matrix_sub is (2780 * 6895)\n",
    "# 3. When you do matrix multiplication of 1 and 2, you get a (1*6895) array\n",
    "# 4. Each element of this array would represent the sum of the population at each residential building multiplied by whether that residential building and that particular commercial building\n",
    "# are within access region. So for example, first element of this result would be P0 * whether res building 0 and comm building 0 are within access + P1 * whether res building 1 and comm building 0 are within access and so on\n",
    "# So each element of the result represents the total new population that would gain access if a commercial building is put at that index\n",
    "\n",
    "res_population_array_sub = np.reshape(res_population_array_sub, (-1, len(res_population_array_sub)))\n",
    "new_access_array = np.matmul(res_population_array_sub, res_comm_access_matrix_subset)\n",
    "\n",
    "###########################\n",
    "# STEP 4: Print results\n",
    "###########################\n",
    "chosen_comm_index = np.argmax(new_access_array)\n",
    "chosen_comm_building = comm_buildings_array[chosen_comm_index]\n",
    "new_access_created = np.max(new_access_array)\n",
    "\n",
    "print(f\"the new store should be put at commercial building {chosen_comm_building}\")\n",
    "print(f\"putting the store here would give access to {new_access_created} new people\")\n"
   ]
  },
  {
   "cell_type": "code",
   "execution_count": null,
   "id": "e0de68f9",
   "metadata": {},
   "outputs": [],
   "source": []
  },
  {
   "cell_type": "code",
   "execution_count": null,
   "id": "fa19b7a2",
   "metadata": {},
   "outputs": [],
   "source": []
  },
  {
   "cell_type": "code",
   "execution_count": null,
   "id": "ad74c52d",
   "metadata": {},
   "outputs": [],
   "source": []
  }
 ],
 "metadata": {
  "kernelspec": {
   "display_name": "Python 3 (ipykernel)",
   "language": "python",
   "name": "python3"
  },
  "language_info": {
   "codemirror_mode": {
    "name": "ipython",
    "version": 3
   },
   "file_extension": ".py",
   "mimetype": "text/x-python",
   "name": "python",
   "nbconvert_exporter": "python",
   "pygments_lexer": "ipython3",
   "version": "3.7.15"
  }
 },
 "nbformat": 4,
 "nbformat_minor": 5
}
