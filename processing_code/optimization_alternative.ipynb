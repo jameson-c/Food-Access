{
 "cells": [
  {
   "cell_type": "code",
   "execution_count": 1,
   "metadata": {},
   "outputs": [
    {
     "name": "stderr",
     "output_type": "stream",
     "text": [
      "c:\\Users\\mihir\\anaconda3\\lib\\site-packages\\numpy\\_distributor_init.py:30: UserWarning: loaded more than 1 DLL from .libs:\n",
      "c:\\Users\\mihir\\anaconda3\\lib\\site-packages\\numpy\\.libs\\libopenblas.EL2C6PLE4ZYW3ECEVIV3OXXGRN2NRFM2.gfortran-win_amd64.dll\n",
      "c:\\Users\\mihir\\anaconda3\\lib\\site-packages\\numpy\\.libs\\libopenblas.WCDJNK7YVMPZQ2ME2ZZHJJRJ3JIKNDB7.gfortran-win_amd64.dll\n",
      "c:\\Users\\mihir\\anaconda3\\lib\\site-packages\\numpy\\.libs\\libopenblas.XWYDX2IKJW2NMTWSFYNGFUWKQU3LYTCZ.gfortran-win_amd64.dll\n",
      "  warnings.warn(\"loaded more than 1 DLL from .libs:\"\n"
     ]
    }
   ],
   "source": [
    "# Import libraries\n",
    "import geopandas as gpd\n",
    "import pandas as pd\n",
    "import matplotlib.pyplot as plt\n",
    "import numpy as np\n",
    "import haversine as hs\n",
    "import gurobipy as gp\n",
    "from gurobipy import GRB\n",
    "\n",
    "# Helper modules\n",
    "import helper_population_allocation as pa\n",
    "import helper_distance_calculation as dc\n",
    "\n",
    "# Avoid printing set copy warnings\n",
    "import warnings\n",
    "warnings.filterwarnings(\"ignore\")"
   ]
  },
  {
   "cell_type": "markdown",
   "metadata": {},
   "source": [
    "### Set up dataset and parameters"
   ]
  },
  {
   "cell_type": "code",
   "execution_count": 2,
   "metadata": {},
   "outputs": [],
   "source": [
    "# Get the main buildings dataset \n",
    "buildings_df = gpd.read_file('../processed_data/relevant_buildings.shp')\n",
    "\n",
    "buildings_df = buildings_df.sample(n=20000, random_state=1)  # Remove later\n",
    "\n",
    "# Create ID variable\n",
    "buildings_df.reset_index(drop=True, inplace=True)\n",
    "buildings_df['building_id'] = buildings_df.index + 1\n",
    "buildings_df['building_id'] = buildings_df.apply(lambda row: str(row['building_id']) + '-' + str(row['CLASS']) , axis=1)"
   ]
  },
  {
   "cell_type": "code",
   "execution_count": 3,
   "metadata": {},
   "outputs": [],
   "source": [
    "# Create arrays to track ordering (residential)\n",
    "res_buildings = buildings_df[buildings_df['class_reco'].str.contains('Residential')]\n",
    "res_buildings = res_buildings.sort_values('building_id')\n",
    "res_buildings = dc.get_geocoordinate(res_buildings, 'geometry')\n",
    "\n",
    "res_buildings_array = np.array(res_buildings['building_id'])\n",
    "res_buildings_coordinates_array = np.array(res_buildings['coordinates'])\n",
    "\n",
    "# Create arrays to track ordering (Commercial)\n",
    "comm_buildings = buildings_df[buildings_df['class_reco'].str.contains('commercial')]\n",
    "comm_buildings = comm_buildings.sort_values('building_id')\n",
    "comm_buildings = dc.get_geocoordinate(comm_buildings, 'geometry')\n",
    "\n",
    "comm_buildings_array = np.array(comm_buildings['building_id'])\n",
    "comm_buildings_coordinates_array = np.array(comm_buildings['coordinates'])\n",
    "\n",
    "# Create arrays to track ordering (grocery stores)\n",
    "grocery_stores = buildings_df[buildings_df['class_reco'].str.contains('Grocery')]\n",
    "grocery_stores = grocery_stores.sort_values('building_id')\n",
    "grocery_stores = dc.get_geocoordinate(grocery_stores, 'geometry')\n",
    "\n",
    "grocery_stores_array = np.array(grocery_stores['building_id'])\n",
    "grocery_stores_coordinates_array = np.array(grocery_stores['coordinates'])"
   ]
  },
  {
   "cell_type": "code",
   "execution_count": 4,
   "metadata": {},
   "outputs": [],
   "source": [
    "# Create parameter matrices (Res comm access matrix - Bij)\n",
    "# [i,j] value indicates whether residential building i is within access distance of commercial building j\n",
    "res_comm_distance_matrix, res_comm_access_matrix = dc.calculate_access(res_buildings_coordinates_array, comm_buildings_coordinates_array)\n",
    "\n",
    "# Save file\n",
    "np.save('res_comm_access_matrix', res_comm_access_matrix)\n",
    "np.save('res_comm_distance_matrix', res_comm_distance_matrix)"
   ]
  },
  {
   "cell_type": "code",
   "execution_count": 5,
   "metadata": {},
   "outputs": [],
   "source": [
    "# Load the files and use it \n",
    "res_comm_access_matrix = np.load('res_comm_access_matrix.npy')\n",
    "res_comm_distance_matrix = np.load('res_comm_access_matrix.npy')"
   ]
  },
  {
   "cell_type": "code",
   "execution_count": 6,
   "metadata": {},
   "outputs": [],
   "source": [
    "# Create parameter matrices (Res groc access array - Aj)\n",
    "# ith value indicates whether the ith residential building has existing access\n",
    "res_groc_distance_matrix, res_groc_access_matrix = dc.calculate_access(res_buildings_coordinates_array, grocery_stores_coordinates_array)\n",
    "res_access_array = np.amax(res_groc_access_matrix, 1)"
   ]
  },
  {
   "cell_type": "code",
   "execution_count": 7,
   "metadata": {},
   "outputs": [
    {
     "data": {
      "text/plain": [
       "array([3, 1, 2, ..., 1, 1, 1], dtype=int64)"
      ]
     },
     "execution_count": 7,
     "metadata": {},
     "output_type": "execute_result"
    }
   ],
   "source": [
    "# Create parameter matrices (Res Population - Pj)\n",
    "# ith value indicates the population in the ith column\n",
    "res_population = pa.get_population(geopandas_dataframe=res_buildings) \n",
    "res_population_array = np.array(res_population['population'])\n",
    "res_population_array"
   ]
  },
  {
   "cell_type": "code",
   "execution_count": 8,
   "metadata": {},
   "outputs": [],
   "source": [
    "# Create demand matrix - number of unsatisfied customers\n",
    "res_demand = res_population_array\n",
    "res_demand[np.where(res_access_array == 1)] = 0 # setting effective demand to zero for buildings that have existing access to a grocery store"
   ]
  },
  {
   "cell_type": "markdown",
   "metadata": {},
   "source": [
    "### Optimization"
   ]
  },
  {
   "cell_type": "code",
   "execution_count": 9,
   "metadata": {},
   "outputs": [],
   "source": [
    "# Figure out thresholding later\n",
    "\n",
    "# np.where(res_comm_distance_matrix <= 1)\n",
    "\n",
    "# res_comm_distance_matrix <= 1\n",
    "\n",
    "\n",
    "# pairings = {(c, r): res_comm_distance_matrix\n",
    "#             for facility in range(num_candidates)\n",
    "#             for cluster in range(num_clusters) \n",
    "#             if  dist(facility_locs[facility], centroids[cluster]) < threshold}\n",
    "# print(\"Number of viable pairings: {0}\".format(len(pairings.keys())))"
   ]
  },
  {
   "cell_type": "code",
   "execution_count": 10,
   "metadata": {},
   "outputs": [
    {
     "name": "stdout",
     "output_type": "stream",
     "text": [
      "Set parameter Username\n",
      "Academic license - for non-commercial use only - expires 2023-08-24\n",
      "Gurobi Optimizer version 9.5.2 build v9.5.2rc0 (win64)\n",
      "Thread count: 4 physical cores, 8 logical processors, using up to 8 threads\n",
      "Optimize a model with 21011215 rows, 20993448 columns and 62978120 nonzeros\n",
      "Model fingerprint: 0x3a6d0179\n",
      "Variable types: 0 continuous, 20993448 integer (20993448 binary)\n",
      "Coefficient statistics:\n",
      "  Matrix range     [1e+00, 1e+00]\n",
      "  Objective range  [1e+00, 1e+01]\n",
      "  Bounds range     [1e+00, 1e+00]\n",
      "  RHS range        [1e+00, 1e+00]\n",
      "Presolve removed 0 rows and 0 columns (presolve time = 8s) ...\n",
      "Presolve removed 0 rows and 0 columns (presolve time = 10s) ...\n",
      "Presolve removed 0 rows and 0 columns (presolve time = 18s) ...\n",
      "Presolve removed 0 rows and 0 columns (presolve time = 21s) ...\n",
      "Presolve removed 0 rows and 0 columns (presolve time = 27s) ...\n",
      "Presolve removed 0 rows and 0 columns (presolve time = 33s) ...\n",
      "Presolve removed 0 rows and 0 columns (presolve time = 36s) ...\n",
      "Presolve removed 0 rows and 0 columns (presolve time = 47s) ...\n",
      "Presolve removed 0 rows and 0 columns (presolve time = 52s) ...\n",
      "Presolve removed 0 rows and 0 columns (presolve time = 56s) ...\n",
      "Presolve removed 0 rows and 0 columns (presolve time = 60s) ...\n",
      "Presolve removed 0 rows and 0 columns (presolve time = 65s) ...\n",
      "Presolve removed 0 rows and 0 columns (presolve time = 70s) ...\n",
      "Presolve removed 0 rows and 0 columns (presolve time = 75s) ...\n",
      "Presolve removed 0 rows and 0 columns (presolve time = 82s) ...\n",
      "Presolve removed 0 rows and 0 columns (presolve time = 88s) ...\n",
      "Presolve removed 0 rows and 0 columns (presolve time = 90s) ...\n",
      "Presolve removed 0 rows and 0 columns (presolve time = 95s) ...\n",
      "Presolve removed 0 rows and 0 columns (presolve time = 100s) ...\n",
      "Presolve removed 0 rows and 0 columns (presolve time = 105s) ...\n",
      "Presolve removed 0 rows and 0 columns (presolve time = 110s) ...\n",
      "Presolve removed 0 rows and 0 columns (presolve time = 115s) ...\n",
      "Presolve removed 0 rows and 0 columns (presolve time = 120s) ...\n",
      "Presolve removed 0 rows and 0 columns (presolve time = 125s) ...\n",
      "Presolve removed 0 rows and 0 columns (presolve time = 130s) ...\n",
      "Presolve removed 0 rows and 0 columns (presolve time = 135s) ...\n",
      "Presolve removed 0 rows and 0 columns (presolve time = 140s) ...\n",
      "Presolve removed 0 rows and 0 columns (presolve time = 145s) ...\n",
      "Presolve removed 0 rows and 0 columns (presolve time = 150s) ...\n",
      "Presolve removed 0 rows and 0 columns (presolve time = 155s) ...\n",
      "Presolve removed 0 rows and 0 columns (presolve time = 160s) ...\n",
      "Presolve removed 0 rows and 0 columns (presolve time = 166s) ...\n",
      "Presolve removed 0 rows and 0 columns (presolve time = 170s) ...\n",
      "Presolve removed 0 rows and 0 columns (presolve time = 181s) ...\n"
     ]
    }
   ],
   "source": [
    "### Testing modeling stuff\n",
    "\n",
    "# Parameters\n",
    "num_commercial_buildings = res_comm_distance_matrix.shape[1]\n",
    "num_residential_buildings = len(res_demand)\n",
    "num_stores = 1\n",
    "\n",
    "# Implement model\n",
    "m = gp.Model('Facility location')\n",
    "\n",
    "# Decision variables \n",
    "select = m.addVars(range(num_commercial_buildings), vtype=GRB.BINARY, name='select') # select location\n",
    "assign = m.addVars(range(num_residential_buildings), range(num_commercial_buildings), vtype=GRB.BINARY, name='assign') # assignment of residential building to cluster\n",
    "\n",
    "# Objective function - min total distance from residential buildings to their assigned grocery store, multiplied by demand\n",
    "m.setObjective(sum(sum(res_demand[i] * res_comm_distance_matrix[i,j] * assign[i, j] for i in range(num_residential_buildings)) for j in range(num_commercial_buildings)))\n",
    "m.modelSense = GRB.MINIMIZE\n",
    "\n",
    "# Constraints\n",
    "m.addConstr(sum(select[i] for i in range(len(select))) <= num_stores, name='store_limit')\n",
    "\n",
    "#m.addConstr(select.sum() <= num_stores, name = 'store_limit') # Facility limit\n",
    "for i in range(num_residential_buildings):\n",
    "    m.addConstr(sum(assign[i,j] for j in range(num_commercial_buildings)) ==  1) # can only assign each residential building to one store\n",
    "\n",
    "for i in range(num_residential_buildings):\n",
    "    for j in range(num_commercial_buildings):\n",
    "        m.addConstr(assign[i,j] <= select[j], name='open2assign') # locations can only be assigned demand if they are selected\n",
    "\n",
    "# Optimize\n",
    "m.optimize()\n"
   ]
  },
  {
   "cell_type": "code",
   "execution_count": 101,
   "metadata": {},
   "outputs": [
    {
     "data": {
      "text/plain": [
       "1018.0862875957736"
      ]
     },
     "execution_count": 101,
     "metadata": {},
     "output_type": "execute_result"
    }
   ],
   "source": [
    "m.objVal"
   ]
  },
  {
   "cell_type": "code",
   "execution_count": 102,
   "metadata": {},
   "outputs": [
    {
     "data": {
      "text/plain": [
       "3.0"
      ]
     },
     "execution_count": 102,
     "metadata": {},
     "output_type": "execute_result"
    }
   ],
   "source": [
    "counter = 0\n",
    "for i in range(len(select)):\n",
    "    counter += select[i].x\n",
    "\n",
    "counter"
   ]
  }
 ],
 "metadata": {
  "kernelspec": {
   "display_name": "Python 3.8.8 ('base')",
   "language": "python",
   "name": "python3"
  },
  "language_info": {
   "codemirror_mode": {
    "name": "ipython",
    "version": 3
   },
   "file_extension": ".py",
   "mimetype": "text/x-python",
   "name": "python",
   "nbconvert_exporter": "python",
   "pygments_lexer": "ipython3",
   "version": "3.8.8"
  },
  "orig_nbformat": 4,
  "vscode": {
   "interpreter": {
    "hash": "47c626452ef4ef3e74376d35c302fcf9bdc1b9327d6e04736eb914a557504e89"
   }
  }
 },
 "nbformat": 4,
 "nbformat_minor": 2
}
