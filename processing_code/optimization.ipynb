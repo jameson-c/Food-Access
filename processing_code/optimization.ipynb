{
 "cells": [
  {
   "cell_type": "markdown",
   "metadata": {},
   "source": [
    "This notebook performs the optimization task to find the location where a new grocery store should be placed, to maximize access\n",
    "\n",
    "How this works (implementation):\n",
    "\n",
    "1. Use the helper_population_allocation.py to allocate a population count to each residential building (not ready yet, some placeholder function in there)\n",
    "2. Use the helper_distance_calculation.py to calculate existing access and distance between a residential and commercial building\n",
    "3. Once 1 and 2 are done, all parameters are ready. \n",
    "\n",
    "4. Then this notebook does some pre optimization setup and then runs an optimization model in Gurobi. It's pretty anti climatic. \n",
    "\n",
    "Next steps:\n",
    "\n",
    "- Update the population allocation helper file\n",
    "- Figure out the correct ordering of arrays. It's not accurate currently \n"
   ]
  },
  {
   "cell_type": "code",
   "execution_count": 81,
   "metadata": {},
   "outputs": [],
   "source": [
    "# Import libraries\n",
    "import geopandas as gpd\n",
    "import pandas as pd\n",
    "import matplotlib.pyplot as plt\n",
    "import numpy as np\n",
    "import haversine as hs\n",
    "import gurobipy as gp\n",
    "from gurobipy import GRB\n",
    "\n",
    "# Helper modules\n",
    "import helper_population_allocation as pa\n",
    "import helper_distance_calculation as dc\n",
    "\n",
    "# Avoid printing set copy warnings\n",
    "import warnings\n",
    "warnings.filterwarnings(\"ignore\")\n",
    "\n"
   ]
  },
  {
   "cell_type": "markdown",
   "metadata": {},
   "source": [
    "PRE-OPTIMIZATION SETUP"
   ]
  },
  {
   "cell_type": "code",
   "execution_count": 82,
   "metadata": {},
   "outputs": [
    {
     "name": "stdout",
     "output_type": "stream",
     "text": [
      "Wall time: 8.03 s\n"
     ]
    }
   ],
   "source": [
    "%%time\n",
    "\n",
    "# Get the main buildings dataset \n",
    "buildings_df = gpd.read_file('../processed_data/relevant_buildings.shp')\n",
    "\n",
    "# Create ID variable\n",
    "buildings_df.reset_index(drop=True, inplace=True)\n",
    "buildings_df['building_id'] = buildings_df.index + 1\n",
    "buildings_df['building_id'] = buildings_df.apply(lambda row: str(row['building_id']) + '-' + str(row['CLASS']) , axis=1)\n",
    "\n",
    "# buildings_df = buildings_df.sample(n=2000, random_state=1)  # Remove later\n",
    "\n",
    "\n"
   ]
  },
  {
   "cell_type": "code",
   "execution_count": 83,
   "metadata": {},
   "outputs": [],
   "source": [
    "# Create arrays to track ordering (residential)\n",
    "res_buildings = buildings_df[buildings_df['class_reco'].str.contains('Residential')]\n",
    "res_buildings = res_buildings.sort_values('building_id')\n",
    "res_buildings = dc.get_geocoordinate(res_buildings, 'geometry')\n",
    "\n",
    "res_buildings_array = np.array(res_buildings['building_id'])\n",
    "res_buildings_coordinates_array = np.array(res_buildings['coordinates'])"
   ]
  },
  {
   "cell_type": "code",
   "execution_count": 84,
   "metadata": {},
   "outputs": [],
   "source": [
    "# Create arrays to track ordering (Commercial)\n",
    "comm_buildings = buildings_df[buildings_df['class_reco'].str.contains('commercial')]\n",
    "comm_buildings = comm_buildings.sort_values('building_id')\n",
    "comm_buildings = dc.get_geocoordinate(comm_buildings, 'geometry')\n",
    "\n",
    "comm_buildings_array = np.array(comm_buildings['building_id'])\n",
    "comm_buildings_coordinates_array = np.array(comm_buildings['coordinates'])\n"
   ]
  },
  {
   "cell_type": "code",
   "execution_count": 85,
   "metadata": {},
   "outputs": [],
   "source": [
    "# Create arrays to track ordering (grocery stores)\n",
    "grocery_stores = buildings_df[buildings_df['class_reco'].str.contains('Grocery')]\n",
    "grocery_stores = grocery_stores.sort_values('building_id')\n",
    "grocery_stores = dc.get_geocoordinate(grocery_stores, 'geometry')\n",
    "\n",
    "grocery_stores_array = np.array(grocery_stores['building_id'])\n",
    "grocery_stores_coordinates_array = np.array(grocery_stores['coordinates'])\n"
   ]
  },
  {
   "cell_type": "code",
   "execution_count": 86,
   "metadata": {},
   "outputs": [
    {
     "name": "stdout",
     "output_type": "stream",
     "text": [
      "Wall time: 0 ns\n"
     ]
    }
   ],
   "source": [
    "%%time\n",
    "# DONT RUN THIS AGAIN\n",
    "\n",
    "# Create parameter matrices (Res comm access matrix - Bij)\n",
    "# [i,j] value indicates whether residential building i is within access distance of commercial building j\n",
    "# res_comm_distance_matrix, res_comm_access_matrix = dc.calculate_access(res_buildings_coordinates_array, comm_buildings_coordinates_array)\n",
    "\n",
    "# # Save file\n",
    "# np.save('res_comm_access_matrix', res_comm_access_matrix)\n",
    "# np.save('res_comm_distance_matrix', res_comm_distance_matrix)\n"
   ]
  },
  {
   "cell_type": "code",
   "execution_count": 87,
   "metadata": {},
   "outputs": [],
   "source": [
    "# Load the files and use it \n",
    "res_comm_access_matrix = np.load('res_comm_access_matrix.npy')\n",
    "res_comm_distance_matrix = np.load('res_comm_distance_matrix.npy')"
   ]
  },
  {
   "cell_type": "code",
   "execution_count": 88,
   "metadata": {},
   "outputs": [
    {
     "name": "stdout",
     "output_type": "stream",
     "text": [
      "Wall time: 55.1 s\n"
     ]
    }
   ],
   "source": [
    "%%time\n",
    "\n",
    "# Create parameter matrices (Res groc access array - Aj)\n",
    "# ith value indicates whether the ith residential building has existing access\n",
    "res_groc_distance_matrix, res_groc_access_matrix = dc.calculate_access(res_buildings_coordinates_array, grocery_stores_coordinates_array)\n",
    "res_access_array = np.amax(res_groc_access_matrix, 1)\n"
   ]
  },
  {
   "cell_type": "code",
   "execution_count": 89,
   "metadata": {},
   "outputs": [
    {
     "name": "stdout",
     "output_type": "stream",
     "text": [
      "Wall time: 1.95 s\n"
     ]
    },
    {
     "data": {
      "text/plain": [
       "array([1, 1, 1, ..., 1, 2, 2], dtype=int64)"
      ]
     },
     "execution_count": 89,
     "metadata": {},
     "output_type": "execute_result"
    }
   ],
   "source": [
    "%%time\n",
    "\n",
    "# Create parameter matrices (Res Population - Pj)\n",
    "# ith value indicates the population in the ith column\n",
    "res_population = pa.get_population(geopandas_dataframe=res_buildings) \n",
    "res_population_array = np.array(res_population['population'])\n",
    "res_population_array"
   ]
  },
  {
   "cell_type": "markdown",
   "metadata": {},
   "source": [
    "OPTIMIZATION\n",
    "\n",
    "Steps:\n",
    "i = set of all commercial buildings\n",
    "j = set of all residential buildings\n",
    "\n",
    "Decision variable:\n",
    "- Ci = 1 if the new grocery store is put in commercial building i, 0 otherwise\n",
    "\n",
    "Parameters:\n",
    "- Aj = 1 if residential building j already has access to a food store (within 1 mile)\n",
    "- Bij = 1 if commercial building i is within 1 mile of residential building j\n",
    "- Pj = Population at building j\n",
    "\n",
    "Objective function:\n",
    "\n",
    "Max $$ \\sum_i \\sum_j (1-A_j)*P_j*B_{ij}*C_i$$\n",
    "\n",
    "Constraint (only 1 grocery store location being allocated):\n",
    "$$ \\sum_i C_i = 1$$\n",
    "\n",
    "\n",
    "\n"
   ]
  },
  {
   "cell_type": "code",
   "execution_count": 90,
   "metadata": {},
   "outputs": [
    {
     "name": "stdout",
     "output_type": "stream",
     "text": [
      "the new store should be put at commercial building 2816-R\n",
      "putting the store here would give access to 2723 new people\n"
     ]
    }
   ],
   "source": [
    "# Gurobi takes forever to optimize since it relies on for loops. So we are going to do the optimization manually. \n",
    "\n",
    "###########################\n",
    "# STEP 1: Take the res_comm_access_matrix, remove those rows (each row represents a residential building) which have existing access\n",
    "###########################\n",
    "existing_access_indices = res_access_array.nonzero()[0] # These are indices of residential buildings that currently have access\n",
    "res_comm_access_matrix_subset = np.delete(res_comm_access_matrix, existing_access_indices, axis=0 )\n",
    "\n",
    "###########################\n",
    "# STEP 2: Do the same thing for res_population_array so that the ordering matches\n",
    "###########################\n",
    "res_population_array_sub = np.delete(res_population_array, existing_access_indices, axis=0)\n",
    "\n",
    "###########################\n",
    "# STEP 3: Do a matrix multiplication between res_population_array_sub and res_comm_access_matrix_sub\n",
    "###########################\n",
    "\n",
    "# How this works:\n",
    "\n",
    "# 1. Reshape res_population_array_sub to be (1 * 2780) 2D array\n",
    "# 2. res_comm_access_matrix_sub is (2780 * 6895)\n",
    "# 3. When you do matrix multiplication of 1 and 2, you get a (1*6895) array\n",
    "# 4. Each element of this array would represent the sum of the population at each residential building multiplied by whether that residential building and that particular commercial building\n",
    "# are within access region. So for example, first element of this result would be P0 * whether res building 0 and comm building 0 are within access + P1 * whether res building 1 and comm building 0 are within access and so on\n",
    "# So each element of the result represents the total new population that would gain access if a commercial building is put at that index\n",
    "\n",
    "res_population_array_sub = np.reshape(res_population_array_sub, (-1, len(res_population_array_sub)))\n",
    "new_access_array = np.matmul(res_population_array_sub, res_comm_access_matrix_subset)\n",
    "\n",
    "###########################\n",
    "# STEP 4: Print results\n",
    "###########################\n",
    "chosen_comm_index = np.argmax(new_access_array)\n",
    "chosen_comm_building = comm_buildings_array[chosen_comm_index]\n",
    "new_access_created = np.max(new_access_array)\n",
    "\n",
    "print(f\"the new store should be put at commercial building {chosen_comm_building}\")\n",
    "print(f\"putting the store here would give access to {new_access_created} new people\")\n"
   ]
  },
  {
   "cell_type": "code",
   "execution_count": 134,
   "metadata": {},
   "outputs": [],
   "source": [
    "# Now write the optimization that can put n stores in a greedy way\n",
    "\n",
    "# Process - do the exact same thing as above, but in a loop. Keep updating the access array as you place each commercial building\n",
    "\n",
    "def place_n_stores(num_stores):\n",
    "\n",
    "    store_indices = []\n",
    "    store_ids = []\n",
    "    marginal_access_gain = []\n",
    "\n",
    "    res_access_array_copy = res_access_array.copy()\n",
    "    for n in range(num_stores):\n",
    "\n",
    "        if np.sum(res_access_array_copy) == len(res_buildings_array): # This means every building now has access\n",
    "            pass\n",
    "        else:\n",
    "            # STEP 1\n",
    "            existing_access_indices = res_access_array_copy.nonzero()[0] # These are indices of residential buildings that currently have access\n",
    "            res_comm_access_matrix_subset = np.delete(res_comm_access_matrix, existing_access_indices, axis=0 )\n",
    "\n",
    "            # STEP 2\n",
    "            res_population_array_sub = np.delete(res_population_array, existing_access_indices, axis=0)\n",
    "\n",
    "            # STEP 3\n",
    "            res_population_array_sub = np.reshape(res_population_array_sub, (-1, len(res_population_array_sub)))\n",
    "            new_access_array = np.matmul(res_population_array_sub, res_comm_access_matrix_subset)\n",
    "\n",
    "            chosen_comm_index = np.argmax(new_access_array)\n",
    "            chosen_comm_building = comm_buildings_array[chosen_comm_index]\n",
    "            new_access_created = np.max(new_access_array)\n",
    "\n",
    "            # STEP 4: Update results and arrays\n",
    "            \n",
    "            # Which residential buildings does this new store give access to\n",
    "            new_buildings_with_access = res_comm_access_matrix[:,chosen_comm_index].nonzero()[0]    # These are the indices in the res_access_array that need to be replaced (these buildings now have access)\n",
    "\n",
    "            # Update the access values of these buildings in the access array\n",
    "            replace_vals = list(np.ones(new_buildings_with_access.shape)) # These are the values which with certain elements of the access array will be replaced with\n",
    "\n",
    "            # Perform replace\n",
    "            res_access_array_copy[new_buildings_with_access] = replace_vals\n",
    "\n",
    "            # STEP 5: Store results\n",
    "            store_indices.append(chosen_comm_index)\n",
    "            store_ids.append(chosen_comm_building)\n",
    "            marginal_access_gain.append(new_access_created)\n",
    "\n",
    "\n",
    "    return store_indices, store_ids, marginal_access_gain\n",
    "\n",
    "\n",
    "\n"
   ]
  },
  {
   "cell_type": "code",
   "execution_count": 135,
   "metadata": {},
   "outputs": [
    {
     "name": "stdout",
     "output_type": "stream",
     "text": [
      "Num additional stores needed to fill complete access = 2\n"
     ]
    },
    {
     "data": {
      "text/html": [
       "<div>\n",
       "<style scoped>\n",
       "    .dataframe tbody tr th:only-of-type {\n",
       "        vertical-align: middle;\n",
       "    }\n",
       "\n",
       "    .dataframe tbody tr th {\n",
       "        vertical-align: top;\n",
       "    }\n",
       "\n",
       "    .dataframe thead th {\n",
       "        text-align: right;\n",
       "    }\n",
       "</style>\n",
       "<table border=\"1\" class=\"dataframe\">\n",
       "  <thead>\n",
       "    <tr style=\"text-align: right;\">\n",
       "      <th></th>\n",
       "      <th>building_id</th>\n",
       "      <th>marginal_access_gain</th>\n",
       "    </tr>\n",
       "  </thead>\n",
       "  <tbody>\n",
       "    <tr>\n",
       "      <th>0</th>\n",
       "      <td>2816-R</td>\n",
       "      <td>2723</td>\n",
       "    </tr>\n",
       "    <tr>\n",
       "      <th>1</th>\n",
       "      <td>116276-C</td>\n",
       "      <td>880</td>\n",
       "    </tr>\n",
       "  </tbody>\n",
       "</table>\n",
       "</div>"
      ],
      "text/plain": [
       "  building_id  marginal_access_gain\n",
       "0      2816-R                  2723\n",
       "1    116276-C                   880"
      ]
     },
     "execution_count": 135,
     "metadata": {},
     "output_type": "execute_result"
    }
   ],
   "source": [
    "store_indices, store_ids, marginal_access_gain = place_n_stores(5)\n",
    "\n",
    "print(f\"Num additional stores needed to fill complete access = {len(store_indices)}\")\n",
    "\n",
    "results_df = pd.DataFrame(list(zip(store_ids, marginal_access_gain)),\n",
    "                                columns = ['building_id', 'marginal_access_gain'])\n",
    "                                \n",
    "results_df\n"
   ]
  },
  {
   "cell_type": "code",
   "execution_count": 69,
   "metadata": {},
   "outputs": [],
   "source": [
    "# # GUROBI SUCKS, DON'T RUN\n",
    "\n",
    "# ########################################\n",
    "# # SET UP MODEL\n",
    "# ########################################\n",
    "\n",
    "# m = gp.Model(\"food_access\")\n",
    "\n",
    "# num_commercial_buildings = len(comm_buildings_array)\n",
    "# num_residential_buildings = len(res_buildings_array)\n",
    "\n",
    "\n",
    "# ########################################\n",
    "# # ASSIGN DECISION VARIABLES\n",
    "# ########################################\n",
    "\n",
    "# c_i = m.addVars(range(num_commercial_buildings), vtype=GRB.BINARY)\n",
    "\n",
    "# print('decision vars added')\n",
    "\n",
    "# #######################################\n",
    "# # OBJECTIVE FUNCTION\n",
    "# ########################################\n",
    "\n",
    "# m.setObjective(sum(((1-res_access_array[j]) \n",
    "#                         * res_population_array[j] \n",
    "#                         * res_comm_access_matrix.T[i,j]\n",
    "#                         * c_i[i] \n",
    "#                     for j in range(num_residential_buildings) \n",
    "#                 for i in range(num_commercial_buildings))))\n",
    "# m.modelSense = GRB.MAXIMIZE\n",
    "\n",
    "# print('objective function set')\n",
    "\n",
    "# ########################################\n",
    "# # CONSTRAINTS\n",
    "# ########################################\n",
    "\n",
    "# m.addConstr(sum(c_i[i] for i in range(num_commercial_buildings)) ==  1) \n",
    "\n",
    "# print('constraints added')\n"
   ]
  }
 ],
 "metadata": {
  "kernelspec": {
   "display_name": "Python 3.9.7 ('base')",
   "language": "python",
   "name": "python3"
  },
  "language_info": {
   "codemirror_mode": {
    "name": "ipython",
    "version": 3
   },
   "file_extension": ".py",
   "mimetype": "text/x-python",
   "name": "python",
   "nbconvert_exporter": "python",
   "pygments_lexer": "ipython3",
   "version": "3.9.7"
  },
  "orig_nbformat": 4,
  "vscode": {
   "interpreter": {
    "hash": "5d4f5192cbef441c1a91544256fda345f2ac6133655739deabd8e098ce5e8079"
   }
  }
 },
 "nbformat": 4,
 "nbformat_minor": 2
}
