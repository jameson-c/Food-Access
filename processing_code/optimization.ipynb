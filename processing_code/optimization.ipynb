{
 "cells": [
  {
   "cell_type": "markdown",
   "metadata": {},
   "source": [
    "This notebook performs the optimization task to find the location where a new grocery store should be placed, to maximize access\n",
    "\n",
    "How this works (implementation):\n",
    "\n",
    "1. Use the helper_population_allocation.py to allocate a population count to each residential building (not ready yet, some placeholder function in there)\n",
    "2. Use the helper_distance_calculation.py to calculate existing access and distance between a residential and commercial building\n",
    "3. Once 1 and 2 are done, all parameters are ready. \n",
    "\n",
    "4. Then this notebook does some pre optimization setup and then runs an optimization model in Gurobi. It's pretty anti climatic. \n",
    "\n",
    "Next steps:\n",
    "\n",
    "- Update the population allocation helper file\n",
    "- Decide how to uniquely identify a building\n",
    "- Once the above is done, perform aggregation on the access dataframe to get the access variable (we need to do a max aggregation to get the actual access value. For that, we need to know how to uniquely identify a building)\n",
    "- Make sure ordering of arrays and matrices are correct so that the gurobi solution can be mapped back to the actual building (as far as I know, it's difficult to use Gurobi with dataframes, hence this)\n",
    "- Once everything seems to work, run the function to calculate distance between commercial and residential buildings on the full dataset to save the output as a csv, because that thing would take 2-3 hours)"
   ]
  },
  {
   "cell_type": "code",
   "execution_count": 1,
   "metadata": {},
   "outputs": [],
   "source": [
    "# Import libraries\n",
    "import geopandas as gpd\n",
    "import pandas as pd\n",
    "import matplotlib.pyplot as plt\n",
    "import numpy as np\n",
    "import haversine as hs\n",
    "import gurobipy as gp\n",
    "from gurobipy import GRB\n",
    "\n",
    "# Helper modules\n",
    "import helper_population_allocation as pa\n",
    "import helper_distance_calculation as dc\n",
    "\n",
    "# Avoid printing set copy warnings\n",
    "import warnings\n",
    "warnings.filterwarnings(\"ignore\")\n",
    "\n"
   ]
  },
  {
   "cell_type": "markdown",
   "metadata": {},
   "source": [
    "PRE-OPTIMIZATION SETUP"
   ]
  },
  {
   "cell_type": "code",
   "execution_count": 2,
   "metadata": {},
   "outputs": [],
   "source": [
    "# Get the main buildings dataset \n",
    "buildings_df = gpd.read_file('../processed_data/relevant_buildings.shp')\n",
    "buildings_df.drop_duplicates(inplace=True) # There are some pure duplicates\n",
    "buildings_df = buildings_df.sample(n=1000)  # Remove later\n",
    "\n",
    "\n",
    "# Population parameter (Pj)\n",
    "res_population = pa.get_population()\n",
    "\n",
    "# Existing access parameter (Aj)\n",
    "res_groc_access =  dc.calculate_access(\n",
    "                            geopandas_dataframe=buildings_df,\n",
    "                            building_type_1='Residential',\n",
    "                            building_type_2='Grocery',\n",
    "                            identifier_column='class_reco', \n",
    "                            geo_column='geometry', \n",
    "                            output_format='dataframe'\n",
    ")\n",
    "\n"
   ]
  },
  {
   "cell_type": "code",
   "execution_count": null,
   "metadata": {},
   "outputs": [],
   "source": [
    "# Residential- commercial access parameter (Bij)\n",
    "# Run this once, save dataset (will take forever)\n",
    "res_comm_access = dc.calculate_access(\n",
    "                            geopandas_dataframe=buildings_df,\n",
    "                            building_type_1='Residential',\n",
    "                            building_type_2='commercial',\n",
    "                            identifier_column='class_reco', \n",
    "                            geo_column='geometry', \n",
    "                            output_format='dataframe'\n",
    ")"
   ]
  },
  {
   "cell_type": "markdown",
   "metadata": {},
   "source": [
    "OPTIMIZATION\n",
    "\n",
    "Steps:\n",
    "i = set of all commercial buildings\n",
    "j = set of all residential buildings\n",
    "\n",
    "Decision variable:\n",
    "- Ci = 1 if the new grocery store is put in commercial building i, 0 otherwise\n",
    "\n",
    "Parameters:\n",
    "- Aj = 1 if residential building j already has access to a food store (within 1 mile)\n",
    "- Bij = 1 if commercial building i is within 1 mile of residential building j\n",
    "- Pj = Population at building j\n",
    "\n",
    "Objective function:\n",
    "\n",
    "Max $$ \\sum_i \\sum_j (1-A_j)*P_j*B_{ij}*C_i$$\n",
    "\n",
    "Constraint (only 1 grocery store location being allocated):\n",
    "$$ \\sum_i C_i = 1$$\n",
    "\n",
    "\n",
    "\n"
   ]
  },
  {
   "cell_type": "code",
   "execution_count": 33,
   "metadata": {},
   "outputs": [
    {
     "data": {
      "text/plain": [
       "<gurobi.Constr *Awaiting Model Update*>"
      ]
     },
     "execution_count": 33,
     "metadata": {},
     "output_type": "execute_result"
    }
   ],
   "source": [
    "########################################\n",
    "# SET UP MODEL\n",
    "########################################\n",
    "\n",
    "m = gp.Model(\"food_access\")\n",
    "res_population_array = np.array(res_population[res_population['class_reco'].str.contains('Residential')]['population']) # ith entry corresponds to population at ith residential building \n",
    "res_access_array = np.array(res_groc_access['access']) # ith entry corresponds to existing access at ith residential building \n",
    "res_comm_access_matrix = np.array(res_comm_access.pivot(index='commercial_coordinates', columns='Residential_coordinates', values='access')) # entry [i,j] corresponds to Bij\n",
    "\n",
    "\n",
    "num_commercial_buildings = len(buildings_df[buildings_df['class_reco'].str.contains('commercial')])\n",
    "num_residential_buildings = len(buildings_df[buildings_df['class_reco'].str.contains('Residential')])\n",
    "\n",
    "\n",
    "########################################\n",
    "# ASSIGN DECISION VARIABLES\n",
    "########################################\n",
    "\n",
    "c_i = m.addVars(range(num_commercial_buildings), vtype=GRB.BINARY)\n",
    "\n",
    "\n",
    "#######################################\n",
    "# OBJECTIVE FUNCTION\n",
    "########################################\n",
    "\n",
    "m.setObjective(sum(((1-res_access_array[j]) * res_population_array[j] * res_comm_access_matrix[i,j] * c_i[i] for i in range(num_commercial_buildings) for j in range(num_residential_buildings))))\n",
    "m.modelSense = GRB.MAXIMIZE\n",
    "\n",
    "\n",
    "########################################\n",
    "# CONSTRAINTS\n",
    "########################################\n",
    "\n",
    "m.addConstr(sum(c_i[i] for i in range(num_commercial_buildings)) ==  1) \n"
   ]
  },
  {
   "cell_type": "code",
   "execution_count": 34,
   "metadata": {},
   "outputs": [
    {
     "name": "stdout",
     "output_type": "stream",
     "text": [
      "Gurobi Optimizer version 9.5.2 build v9.5.2rc0 (win64)\n",
      "Thread count: 4 physical cores, 8 logical processors, using up to 8 threads\n",
      "Optimize a model with 1 rows, 53 columns and 53 nonzeros\n",
      "Model fingerprint: 0x81182e8f\n",
      "Variable types: 0 continuous, 53 integer (53 binary)\n",
      "Coefficient statistics:\n",
      "  Matrix range     [1e+00, 1e+00]\n",
      "  Objective range  [5e+00, 2e+02]\n",
      "  Bounds range     [1e+00, 1e+00]\n",
      "  RHS range        [1e+00, 1e+00]\n",
      "Found heuristic solution: objective 109.0000000\n",
      "Presolve removed 1 rows and 53 columns\n",
      "Presolve time: 0.01s\n",
      "Presolve: All rows and columns removed\n",
      "\n",
      "Explored 0 nodes (0 simplex iterations) in 0.03 seconds (0.00 work units)\n",
      "Thread count was 1 (of 8 available processors)\n",
      "\n",
      "Solution count 2: 173 109 \n",
      "\n",
      "Optimal solution found (tolerance 1.00e-04)\n",
      "Best objective 1.730000000000e+02, best bound 1.730000000000e+02, gap 0.0000%\n"
     ]
    }
   ],
   "source": [
    "# Optimize and see results\n",
    "m.optimize()"
   ]
  }
 ],
 "metadata": {
  "kernelspec": {
   "display_name": "Python 3.9.7 ('base')",
   "language": "python",
   "name": "python3"
  },
  "language_info": {
   "codemirror_mode": {
    "name": "ipython",
    "version": 3
   },
   "file_extension": ".py",
   "mimetype": "text/x-python",
   "name": "python",
   "nbconvert_exporter": "python",
   "pygments_lexer": "ipython3",
   "version": "3.9.7"
  },
  "orig_nbformat": 4,
  "vscode": {
   "interpreter": {
    "hash": "5d4f5192cbef441c1a91544256fda345f2ac6133655739deabd8e098ce5e8079"
   }
  }
 },
 "nbformat": 4,
 "nbformat_minor": 2
}
