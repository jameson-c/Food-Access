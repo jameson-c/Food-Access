{
 "cells": [
  {
   "cell_type": "markdown",
   "metadata": {},
   "source": [
    "### Distance from residential buildings to existing grocery stores"
   ]
  },
  {
   "cell_type": "code",
   "execution_count": 1,
   "metadata": {},
   "outputs": [
    {
     "name": "stderr",
     "output_type": "stream",
     "text": [
      "c:\\Users\\mihir\\anaconda3\\lib\\site-packages\\numpy\\_distributor_init.py:30: UserWarning: loaded more than 1 DLL from .libs:\n",
      "c:\\Users\\mihir\\anaconda3\\lib\\site-packages\\numpy\\.libs\\libopenblas.EL2C6PLE4ZYW3ECEVIV3OXXGRN2NRFM2.gfortran-win_amd64.dll\n",
      "c:\\Users\\mihir\\anaconda3\\lib\\site-packages\\numpy\\.libs\\libopenblas.WCDJNK7YVMPZQ2ME2ZZHJJRJ3JIKNDB7.gfortran-win_amd64.dll\n",
      "c:\\Users\\mihir\\anaconda3\\lib\\site-packages\\numpy\\.libs\\libopenblas.XWYDX2IKJW2NMTWSFYNGFUWKQU3LYTCZ.gfortran-win_amd64.dll\n",
      "  warnings.warn(\"loaded more than 1 DLL from .libs:\"\n"
     ]
    }
   ],
   "source": [
    "import geopandas as gpd\n",
    "import pandas as pd\n",
    "import matplotlib.pyplot as plt"
   ]
  },
  {
   "cell_type": "code",
   "execution_count": 8,
   "metadata": {},
   "outputs": [],
   "source": [
    "df = gpd.read_file('../processed_data/spatial_data/relevant_buildings.shp')"
   ]
  },
  {
   "cell_type": "code",
   "execution_count": 13,
   "metadata": {},
   "outputs": [
    {
     "data": {
      "text/html": [
       "<div>\n",
       "<style scoped>\n",
       "    .dataframe tbody tr th:only-of-type {\n",
       "        vertical-align: middle;\n",
       "    }\n",
       "\n",
       "    .dataframe tbody tr th {\n",
       "        vertical-align: top;\n",
       "    }\n",
       "\n",
       "    .dataframe thead th {\n",
       "        text-align: right;\n",
       "    }\n",
       "</style>\n",
       "<table border=\"1\" class=\"dataframe\">\n",
       "  <thead>\n",
       "    <tr style=\"text-align: right;\">\n",
       "      <th></th>\n",
       "      <th>CLASS</th>\n",
       "      <th>class_reco</th>\n",
       "      <th>hood</th>\n",
       "      <th>geoid10</th>\n",
       "      <th>tractce10</th>\n",
       "      <th>geometry</th>\n",
       "    </tr>\n",
       "  </thead>\n",
       "  <tbody>\n",
       "    <tr>\n",
       "      <th>0</th>\n",
       "      <td>C</td>\n",
       "      <td>1-Unit Residential</td>\n",
       "      <td>Brookline</td>\n",
       "      <td>420031918003</td>\n",
       "      <td>191800</td>\n",
       "      <td>POLYGON ((-80.01230 40.38309, -80.01255 40.383...</td>\n",
       "    </tr>\n",
       "    <tr>\n",
       "      <th>1</th>\n",
       "      <td>R</td>\n",
       "      <td>1-Unit Residential</td>\n",
       "      <td>Brookline</td>\n",
       "      <td>420031918003</td>\n",
       "      <td>191800</td>\n",
       "      <td>POLYGON ((-80.01382 40.38638, -80.01380 40.386...</td>\n",
       "    </tr>\n",
       "    <tr>\n",
       "      <th>2</th>\n",
       "      <td>R</td>\n",
       "      <td>1-Unit Residential</td>\n",
       "      <td>Brookline</td>\n",
       "      <td>420031918003</td>\n",
       "      <td>191800</td>\n",
       "      <td>POLYGON ((-80.01309 40.38253, -80.01307 40.382...</td>\n",
       "    </tr>\n",
       "    <tr>\n",
       "      <th>3</th>\n",
       "      <td>R</td>\n",
       "      <td>1-Unit Residential</td>\n",
       "      <td>Brookline</td>\n",
       "      <td>420031918003</td>\n",
       "      <td>191800</td>\n",
       "      <td>POLYGON ((-80.01399 40.38554, -80.01399 40.385...</td>\n",
       "    </tr>\n",
       "    <tr>\n",
       "      <th>4</th>\n",
       "      <td>R</td>\n",
       "      <td>1-Unit Residential</td>\n",
       "      <td>Brookline</td>\n",
       "      <td>420031918003</td>\n",
       "      <td>191800</td>\n",
       "      <td>POLYGON ((-80.00736 40.38204, -80.00729 40.381...</td>\n",
       "    </tr>\n",
       "  </tbody>\n",
       "</table>\n",
       "</div>"
      ],
      "text/plain": [
       "  CLASS          class_reco       hood       geoid10 tractce10  \\\n",
       "0     C  1-Unit Residential  Brookline  420031918003    191800   \n",
       "1     R  1-Unit Residential  Brookline  420031918003    191800   \n",
       "2     R  1-Unit Residential  Brookline  420031918003    191800   \n",
       "3     R  1-Unit Residential  Brookline  420031918003    191800   \n",
       "4     R  1-Unit Residential  Brookline  420031918003    191800   \n",
       "\n",
       "                                            geometry  \n",
       "0  POLYGON ((-80.01230 40.38309, -80.01255 40.383...  \n",
       "1  POLYGON ((-80.01382 40.38638, -80.01380 40.386...  \n",
       "2  POLYGON ((-80.01309 40.38253, -80.01307 40.382...  \n",
       "3  POLYGON ((-80.01399 40.38554, -80.01399 40.385...  \n",
       "4  POLYGON ((-80.00736 40.38204, -80.00729 40.381...  "
      ]
     },
     "execution_count": 13,
     "metadata": {},
     "output_type": "execute_result"
    }
   ],
   "source": [
    "df.head()"
   ]
  },
  {
   "cell_type": "code",
   "execution_count": 14,
   "metadata": {},
   "outputs": [
    {
     "name": "stderr",
     "output_type": "stream",
     "text": [
      "<ipython-input-14-a0218e801f59>:3: UserWarning: Geometry is in a geographic CRS. Results from 'centroid' are likely incorrect. Use 'GeoSeries.to_crs()' to re-project geometries to a projected CRS before this operation.\n",
      "\n",
      "  df_points['geometry'] = df_points['geometry'].centroid\n"
     ]
    },
    {
     "data": {
      "text/html": [
       "<div>\n",
       "<style scoped>\n",
       "    .dataframe tbody tr th:only-of-type {\n",
       "        vertical-align: middle;\n",
       "    }\n",
       "\n",
       "    .dataframe tbody tr th {\n",
       "        vertical-align: top;\n",
       "    }\n",
       "\n",
       "    .dataframe thead th {\n",
       "        text-align: right;\n",
       "    }\n",
       "</style>\n",
       "<table border=\"1\" class=\"dataframe\">\n",
       "  <thead>\n",
       "    <tr style=\"text-align: right;\">\n",
       "      <th></th>\n",
       "      <th>CLASS</th>\n",
       "      <th>class_reco</th>\n",
       "      <th>hood</th>\n",
       "      <th>geoid10</th>\n",
       "      <th>tractce10</th>\n",
       "      <th>geometry</th>\n",
       "    </tr>\n",
       "  </thead>\n",
       "  <tbody>\n",
       "    <tr>\n",
       "      <th>0</th>\n",
       "      <td>C</td>\n",
       "      <td>1-Unit Residential</td>\n",
       "      <td>Brookline</td>\n",
       "      <td>420031918003</td>\n",
       "      <td>191800</td>\n",
       "      <td>POINT (-80.01241 40.38317)</td>\n",
       "    </tr>\n",
       "    <tr>\n",
       "      <th>1</th>\n",
       "      <td>R</td>\n",
       "      <td>1-Unit Residential</td>\n",
       "      <td>Brookline</td>\n",
       "      <td>420031918003</td>\n",
       "      <td>191800</td>\n",
       "      <td>POINT (-80.01375 40.38637)</td>\n",
       "    </tr>\n",
       "    <tr>\n",
       "      <th>2</th>\n",
       "      <td>R</td>\n",
       "      <td>1-Unit Residential</td>\n",
       "      <td>Brookline</td>\n",
       "      <td>420031918003</td>\n",
       "      <td>191800</td>\n",
       "      <td>POINT (-80.01300 40.38258)</td>\n",
       "    </tr>\n",
       "    <tr>\n",
       "      <th>3</th>\n",
       "      <td>R</td>\n",
       "      <td>1-Unit Residential</td>\n",
       "      <td>Brookline</td>\n",
       "      <td>420031918003</td>\n",
       "      <td>191800</td>\n",
       "      <td>POINT (-80.01401 40.38548)</td>\n",
       "    </tr>\n",
       "    <tr>\n",
       "      <th>4</th>\n",
       "      <td>R</td>\n",
       "      <td>1-Unit Residential</td>\n",
       "      <td>Brookline</td>\n",
       "      <td>420031918003</td>\n",
       "      <td>191800</td>\n",
       "      <td>POINT (-80.00738 40.38199)</td>\n",
       "    </tr>\n",
       "  </tbody>\n",
       "</table>\n",
       "</div>"
      ],
      "text/plain": [
       "  CLASS          class_reco       hood       geoid10 tractce10  \\\n",
       "0     C  1-Unit Residential  Brookline  420031918003    191800   \n",
       "1     R  1-Unit Residential  Brookline  420031918003    191800   \n",
       "2     R  1-Unit Residential  Brookline  420031918003    191800   \n",
       "3     R  1-Unit Residential  Brookline  420031918003    191800   \n",
       "4     R  1-Unit Residential  Brookline  420031918003    191800   \n",
       "\n",
       "                     geometry  \n",
       "0  POINT (-80.01241 40.38317)  \n",
       "1  POINT (-80.01375 40.38637)  \n",
       "2  POINT (-80.01300 40.38258)  \n",
       "3  POINT (-80.01401 40.38548)  \n",
       "4  POINT (-80.00738 40.38199)  "
      ]
     },
     "execution_count": 14,
     "metadata": {},
     "output_type": "execute_result"
    }
   ],
   "source": [
    "# Converting polygons to centroids\n",
    "df_points = df.copy()\n",
    "df_points['geometry'] = df_points['geometry'].centroid\n",
    "df_points.head() "
   ]
  },
  {
   "cell_type": "code",
   "execution_count": 15,
   "metadata": {},
   "outputs": [
    {
     "name": "stdout",
     "output_type": "stream",
     "text": [
      "There are 109324 residential buildings, and 59 grocery stores\n"
     ]
    }
   ],
   "source": [
    "grocery_stores = df_points[df_points['class_reco'] == 'Grocery Store']\n",
    "residential = df_points[df_points['class_reco'].str.contains('Residential')]\n",
    "print(f\"There are {len(residential)} residential buildings, and {len(grocery_stores)} grocery stores\")"
   ]
  },
  {
   "cell_type": "code",
   "execution_count": 16,
   "metadata": {},
   "outputs": [
    {
     "name": "stderr",
     "output_type": "stream",
     "text": [
      "<ipython-input-16-b06675ee51d9>:1: UserWarning: Geometry is in a geographic CRS. Results from 'distance' are likely incorrect. Use 'GeoSeries.to_crs()' to re-project geometries to a projected CRS before this operation.\n",
      "\n",
      "  distances = grocery_stores.geometry.apply(lambda g: residential.distance(g))\n"
     ]
    }
   ],
   "source": [
    "distances = grocery_stores.geometry.apply(lambda g: residential.distance(g))\n"
   ]
  },
  {
   "cell_type": "code",
   "execution_count": 18,
   "metadata": {},
   "outputs": [
    {
     "data": {
      "text/plain": [
       "(59, 109324)"
      ]
     },
     "execution_count": 18,
     "metadata": {},
     "output_type": "execute_result"
    }
   ],
   "source": [
    "distances.shape"
   ]
  },
  {
   "cell_type": "code",
   "execution_count": null,
   "metadata": {},
   "outputs": [],
   "source": []
  }
 ],
 "metadata": {
  "kernelspec": {
   "display_name": "Python 3.8.8 ('base')",
   "language": "python",
   "name": "python3"
  },
  "language_info": {
   "codemirror_mode": {
    "name": "ipython",
    "version": 3
   },
   "file_extension": ".py",
   "mimetype": "text/x-python",
   "name": "python",
   "nbconvert_exporter": "python",
   "pygments_lexer": "ipython3",
   "version": "3.8.8"
  },
  "orig_nbformat": 4,
  "vscode": {
   "interpreter": {
    "hash": "47c626452ef4ef3e74376d35c302fcf9bdc1b9327d6e04736eb914a557504e89"
   }
  }
 },
 "nbformat": 4,
 "nbformat_minor": 2
}
