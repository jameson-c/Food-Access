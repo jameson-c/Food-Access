{
 "cells": [
  {
   "cell_type": "code",
   "execution_count": 61,
   "metadata": {},
   "outputs": [],
   "source": [
    "# Import libraries\n",
    "import geopandas as gpd\n",
    "import pandas as pd\n",
    "import matplotlib.pyplot as plt\n",
    "import numpy as np\n",
    "import haversine as hs\n",
    "import gurobipy as gp\n",
    "from gurobipy import GRB\n",
    "from shapely import wkt\n",
    "\n",
    "# Helper modules\n",
    "import helper_population_allocation as pa\n",
    "import helper_distance_calculation as dc\n",
    "\n",
    "# Avoid printing set copy warnings\n",
    "import warnings\n",
    "warnings.filterwarnings(\"ignore\")"
   ]
  },
  {
   "cell_type": "markdown",
   "metadata": {},
   "source": [
    "### Set up dataset and parameters"
   ]
  },
  {
   "cell_type": "code",
   "execution_count": 62,
   "metadata": {},
   "outputs": [],
   "source": [
    "# Get the main buildings dataset \n",
    "buildings_df = gpd.read_file('../processed_data/relevant_buildings.shp')\n",
    "\n",
    "# Create ID variable\n",
    "buildings_df.reset_index(drop=True, inplace=True)\n",
    "buildings_df['building_id'] = buildings_df.index + 1\n",
    "buildings_df['building_id'] = buildings_df.apply(lambda row: str(row['building_id']) + '-' + str(row['CLASS']) , axis=1)\n"
   ]
  },
  {
   "cell_type": "code",
   "execution_count": 63,
   "metadata": {},
   "outputs": [],
   "source": [
    "# Get the proper geo IDs that can merge to USDA low income low access (from ACS data)\n",
    "acs_data = pd.read_csv('ACSData.csv')\n",
    "acs_data = acs_data[['geometry', 'geo_id', 'B01003_001E', 'B25010_001E']]\n",
    "acs_data['geometry'] = acs_data['geometry'].apply(wkt.loads) # convert acs data to polygons\n",
    "acs_data = gpd.GeoDataFrame(acs_data, geometry = 'geometry').set_crs(buildings_df.crs) # turn into polygons\n",
    "\n",
    "# Do a spatial join from acs to buildings_df to get the propert geo_ids\n",
    "buildings_df = buildings_df.sjoin(acs_data, how=\"left\", predicate='intersects')\n",
    "buildings_df['geo_id'] = buildings_df['geo_id'].str[-6:] # the last six characters is the tract ID'\n",
    "\n",
    "# There are buildings that map onto multiple tracts based on the spatial join - don't know why this happens - see below\n",
    "# buildings_df[buildings_df.duplicated(subset=['building_id'], keep=False)].sort_values('building_id')\n",
    "\n",
    "# So we drop duplicates\n",
    "buildings_df = buildings_df.drop_duplicates(subset=['building_id'], keep='first')\n"
   ]
  },
  {
   "cell_type": "code",
   "execution_count": 64,
   "metadata": {},
   "outputs": [],
   "source": [
    "# Import usda low income low access data\n",
    "usda_lila = pd.read_csv('../input_data/usda_lowincomelowaccess.csv')\n",
    "\n",
    "usda_lila = usda_lila[['Allegheny_Tracts_GEOID','USDA_Data_LILATracts_1And10','USDA_Data_LILATracts_halfAnd10']]\n",
    "\n",
    "# Get the right geo_id to merge\n",
    "usda_lila['geo_id'] = usda_lila['Allegheny_Tracts_GEOID'].astype(str)\n",
    "\n",
    "\n",
    "usda_lila['geo_id'] = usda_lila['geo_id'].str[-6:]\n",
    "\n",
    "usda_lila\n",
    "\n",
    "# Merge these definitions onto buildings_df\n",
    "buildings_df = buildings_df.merge(usda_lila, how='left', on='geo_id')\n",
    "\n",
    "# Drop building_id duplicates\n",
    "buildings_df = buildings_df.drop_duplicates('building_id')\n",
    "\n",
    "# If the buildings didn't merge, for now just assume LILA variables are 1\n",
    "buildings_df[['USDA_Data_LILATracts_1And10','USDA_Data_LILATracts_halfAnd10']].fillna(1,inplace=True)"
   ]
  },
  {
   "cell_type": "code",
   "execution_count": 65,
   "metadata": {},
   "outputs": [
    {
     "data": {
      "text/plain": [
       "0.0    125\n",
       "1.0     10\n",
       "Name: lila_1_10, dtype: int64"
      ]
     },
     "execution_count": 65,
     "metadata": {},
     "output_type": "execute_result"
    }
   ],
   "source": [
    "# How many tracts are LILA\n",
    "tractlevel_access = buildings_df.groupby('geo_id').aggregate(lila_1_10 = ('USDA_Data_LILATracts_1And10', max))\n",
    "tractlevel_access['lila_1_10'].value_counts()\n"
   ]
  },
  {
   "cell_type": "code",
   "execution_count": 66,
   "metadata": {},
   "outputs": [],
   "source": [
    "# # Filter out if not LILA at 1 mile\n",
    "# buildings_df = buildings_df[buildings_df['USDA_Data_LILATracts_1And10'] == 1]\n",
    "\n",
    "# # Keep only 1 census tract: hazelwood\n",
    "buildings_df = buildings_df[buildings_df['geo_id'] == '562300']\n"
   ]
  },
  {
   "cell_type": "code",
   "execution_count": 67,
   "metadata": {},
   "outputs": [],
   "source": [
    "# Create arrays to track ordering (residential)\n",
    "res_buildings = buildings_df[buildings_df['class_reco'].str.contains('Residential')]\n",
    "res_buildings = res_buildings.sort_values('building_id')\n",
    "res_buildings = dc.get_geocoordinate(res_buildings, 'geometry')\n",
    "\n",
    "res_buildings_array = np.array(res_buildings['building_id'])\n",
    "res_buildings_coordinates_array = np.array(res_buildings['coordinates'])\n",
    "\n",
    "# Create arrays to track ordering (Commercial)\n",
    "comm_buildings = buildings_df[buildings_df['class_reco'].str.contains('commercial')]\n",
    "comm_buildings = comm_buildings.sort_values('building_id')\n",
    "comm_buildings = dc.get_geocoordinate(comm_buildings, 'geometry')\n",
    "\n",
    "comm_buildings_array = np.array(comm_buildings['building_id'])\n",
    "comm_buildings_coordinates_array = np.array(comm_buildings['coordinates'])\n",
    "\n",
    "# # Create arrays to track ordering (grocery stores) - choosing one LILA tract, so no grocery stores\n",
    "# grocery_stores = buildings_df[buildings_df['class_reco'].str.contains('Grocery')]\n",
    "# grocery_stores = grocery_stores.sort_values('building_id')\n",
    "# grocery_stores = dc.get_geocoordinate(grocery_stores, 'geometry')\n",
    "\n",
    "# grocery_stores_array = np.array(grocery_stores['building_id'])\n",
    "# grocery_stores_coordinates_array = np.array(grocery_stores['coordinates'])"
   ]
  },
  {
   "cell_type": "code",
   "execution_count": 68,
   "metadata": {},
   "outputs": [
    {
     "name": "stdout",
     "output_type": "stream",
     "text": [
      "There are now 560 commercial buildings\n",
      "There are now 10306 residential buildings\n"
     ]
    }
   ],
   "source": [
    "print(f'There are now {len(comm_buildings_array)} commercial buildings')\n",
    "print(f'There are now {len(res_buildings)} residential buildings')"
   ]
  },
  {
   "cell_type": "code",
   "execution_count": 69,
   "metadata": {},
   "outputs": [],
   "source": [
    "# Import res comm access matrix again\n",
    "#res_comm_distance_matrix = np.load('res_comm_distance_matrix.npy')\n",
    "\n",
    "# Need to recalculate distance and access matrices based on new dataset (filtered)\n",
    "res_comm_distance_matrix, res_comm_access_matrix = dc.calculate_access(res_buildings_coordinates_array, comm_buildings_coordinates_array)\n",
    "\n",
    "# Creating a modified res comm access matrix \n",
    "res_comm_access_matrix = res_comm_distance_matrix.copy()\n",
    "res_comm_access_matrix[res_comm_access_matrix <= 0.5] = 1\n",
    "res_comm_access_matrix[res_comm_access_matrix != 1] = 0\n",
    "\n",
    "# Create a modified res existing access array\n",
    "# res_groc_distance_matrix, res_groc_access_matrix = dc.calculate_access(res_buildings_coordinates_array, grocery_stores_coordinates_array)\n",
    "\n",
    "# res_groc_access_matrix = res_groc_distance_matrix.copy()\n",
    "# res_groc_access_matrix[res_groc_access_matrix <= 0.5] = 1\n",
    "# res_groc_access_matrix[res_groc_access_matrix != 1] = 0\n",
    "\n",
    "# res_access_array = np.amax(res_groc_access_matrix, 1)\n",
    "\n",
    "# Assume that none of the residential buildings have access \n",
    "res_access_array = np.zeros(len(res_buildings_array))"
   ]
  },
  {
   "cell_type": "code",
   "execution_count": 70,
   "metadata": {},
   "outputs": [
    {
     "data": {
      "text/plain": [
       "array([1.94, 1.94, 1.94, ..., 3.68, 3.68, 3.68])"
      ]
     },
     "execution_count": 70,
     "metadata": {},
     "output_type": "execute_result"
    }
   ],
   "source": [
    "# Create parameter matrices (Res Population - Pj)\n",
    "# ith value indicates the population in the ith column\n",
    "\n",
    "# generate population numbers\n",
    "res_buildings['population'] = 0 # baseline is nobody lives in a building\n",
    "res_buildings.loc[res_buildings['class_reco'] == '1-Unit Residential', 'population'] = 1\n",
    "res_buildings.loc[res_buildings['class_reco'] == '2-Unit Residential', 'population'] = 2\n",
    "res_buildings.loc[res_buildings['class_reco'] == '3-Unit Residential', 'population'] = 3\n",
    "res_buildings.loc[res_buildings['class_reco'] == '4+ Unit Residential', 'population'] = 4\n",
    "# multiply by average household size\n",
    "res_buildings['population'] = res_buildings['population']*res_buildings['B25010_001E'] \n",
    "\n",
    "res_population_array = np.array(res_buildings['population'])\n",
    "res_population_array"
   ]
  },
  {
   "cell_type": "code",
   "execution_count": 71,
   "metadata": {},
   "outputs": [],
   "source": [
    "# Create demand matrix - number of unsatisfied customers\n",
    "res_demand = res_population_array\n",
    "res_demand[np.where(res_access_array == 1)] = 0 # setting effective demand to zero for buildings that have existing access to a grocery store"
   ]
  },
  {
   "cell_type": "markdown",
   "metadata": {},
   "source": [
    "### Optimization"
   ]
  },
  {
   "cell_type": "code",
   "execution_count": 72,
   "metadata": {},
   "outputs": [],
   "source": [
    "# Figure out thresholding later\n",
    "\n",
    "# np.where(res_comm_distance_matrix <= 1)\n",
    "\n",
    "# res_comm_distance_matrix <= 1\n",
    "\n",
    "\n",
    "# pairings = {(c, r): res_comm_distance_matrix\n",
    "#             for facility in range(num_candidates)\n",
    "#             for cluster in range(num_clusters) \n",
    "#             if  dist(facility_locs[facility], centroids[cluster]) < threshold}\n",
    "# print(\"Number of viable pairings: {0}\".format(len(pairings.keys())))"
   ]
  },
  {
   "cell_type": "code",
   "execution_count": 73,
   "metadata": {},
   "outputs": [
    {
     "name": "stdout",
     "output_type": "stream",
     "text": [
      "Gurobi Optimizer version 9.5.2 build v9.5.2rc0 (win64)\n",
      "Thread count: 4 physical cores, 8 logical processors, using up to 8 threads\n",
      "Optimize a model with 5781667 rows, 5771920 columns and 17314640 nonzeros\n",
      "Model fingerprint: 0x23dafd21\n",
      "Variable types: 0 continuous, 5771920 integer (5771920 binary)\n",
      "Coefficient statistics:\n",
      "  Matrix range     [1e+00, 1e+00]\n",
      "  Objective range  [3e-03, 1e+02]\n",
      "  Bounds range     [1e+00, 1e+00]\n",
      "  RHS range        [1e+00, 1e+00]\n",
      "Presolve removed 0 rows and 0 columns (presolve time = 5s) ...\n",
      "Presolve removed 0 rows and 0 columns (presolve time = 53s) ...\n",
      "Presolve removed 0 rows and 0 columns (presolve time = 55s) ...\n",
      "Presolve removed 0 rows and 0 columns (presolve time = 60s) ...\n",
      "Presolve removed 0 rows and 0 columns (presolve time = 65s) ...\n",
      "Presolve removed 0 rows and 0 columns (presolve time = 70s) ...\n",
      "Presolve removed 0 rows and 0 columns (presolve time = 75s) ...\n"
     ]
    }
   ],
   "source": [
    "### Testing modeling stuff\n",
    "\n",
    "# Parameters\n",
    "num_commercial_buildings = res_comm_distance_matrix.shape[1]\n",
    "num_residential_buildings = len(res_demand)\n",
    "num_stores = 1\n",
    "\n",
    "# Implement model\n",
    "m = gp.Model('Facility location')\n",
    "\n",
    "# Decision variables \n",
    "select = m.addVars(range(num_commercial_buildings), vtype=GRB.BINARY, name='select') # select location\n",
    "assign = m.addVars(range(num_residential_buildings), range(num_commercial_buildings), vtype=GRB.BINARY, name='assign') # assignment of residential building to cluster\n",
    "\n",
    "# Objective function - min total distance from residential buildings to their assigned grocery store, multiplied by demand\n",
    "m.setObjective(sum(sum(res_demand[i] * res_comm_distance_matrix[i,j] * assign[i, j] for i in range(num_residential_buildings)) for j in range(num_commercial_buildings)))\n",
    "m.modelSense = GRB.MINIMIZE\n",
    "\n",
    "# Constraints\n",
    "m.addConstr(sum(select[i] for i in range(len(select))) <= num_stores, name='store_limit')\n",
    "\n",
    "#m.addConstr(select.sum() <= num_stores, name = 'store_limit') # Facility limit\n",
    "for i in range(num_residential_buildings):\n",
    "    m.addConstr(sum(assign[i,j] for j in range(num_commercial_buildings)) ==  1) # can only assign each residential building to one store\n",
    "\n",
    "for i in range(num_residential_buildings):\n",
    "    for j in range(num_commercial_buildings):\n",
    "        m.addConstr(assign[i,j] <= select[j], name='open2assign') # locations can only be assigned demand if they are selected\n",
    "\n",
    "# Optimize\n",
    "m.optimize()\n"
   ]
  },
  {
   "cell_type": "markdown",
   "metadata": {},
   "source": [
    "### Results Analysis"
   ]
  },
  {
   "cell_type": "code",
   "execution_count": null,
   "metadata": {},
   "outputs": [
    {
     "data": {
      "text/plain": [
       "725.4090693131119"
      ]
     },
     "execution_count": 59,
     "metadata": {},
     "output_type": "execute_result"
    }
   ],
   "source": [
    "m.objVal"
   ]
  },
  {
   "cell_type": "code",
   "execution_count": null,
   "metadata": {},
   "outputs": [
    {
     "data": {
      "text/plain": [
       "1.0"
      ]
     },
     "execution_count": 60,
     "metadata": {},
     "output_type": "execute_result"
    }
   ],
   "source": [
    "counter = 0\n",
    "for i in range(len(select)):\n",
    "    counter += select[i].x\n",
    "\n",
    "counter"
   ]
  },
  {
   "cell_type": "code",
   "execution_count": null,
   "metadata": {},
   "outputs": [],
   "source": []
  }
 ],
 "metadata": {
  "kernelspec": {
   "display_name": "Python 3.8.8 ('base')",
   "language": "python",
   "name": "python3"
  },
  "language_info": {
   "codemirror_mode": {
    "name": "ipython",
    "version": 3
   },
   "file_extension": ".py",
   "mimetype": "text/x-python",
   "name": "python",
   "nbconvert_exporter": "python",
   "pygments_lexer": "ipython3",
   "version": "3.8.8"
  },
  "orig_nbformat": 4,
  "vscode": {
   "interpreter": {
    "hash": "47c626452ef4ef3e74376d35c302fcf9bdc1b9327d6e04736eb914a557504e89"
   }
  }
 },
 "nbformat": 4,
 "nbformat_minor": 2
}
