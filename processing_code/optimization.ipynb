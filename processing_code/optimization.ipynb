{
 "cells": [
  {
   "cell_type": "markdown",
   "metadata": {},
   "source": [
    "This notebook performs the optimization task to find the location where a new grocery store should be placed, to maximize access\n",
    "\n",
    "How this works (implementation):\n",
    "\n",
    "1. Use the helper_population_allocation.py to allocate a population count to each residential building (not ready yet, some placeholder function in there)\n",
    "2. Use the helper_distance_calculation.py to calculate existing access and distance between a residential and commercial building\n",
    "3. Once 1 and 2 are done, all parameters are ready. \n",
    "\n",
    "4. Then this notebook does some pre optimization setup and then runs an optimization model in Gurobi. It's pretty anti climatic. \n",
    "\n",
    "Next steps:\n",
    "\n",
    "- Update the population allocation helper file\n",
    "- Figure out the correct ordering of arrays. It's not accurate currently \n"
   ]
  },
  {
   "cell_type": "code",
   "execution_count": 1,
   "metadata": {},
   "outputs": [],
   "source": [
    "# Import libraries\n",
    "import geopandas as gpd\n",
    "import pandas as pd\n",
    "import matplotlib.pyplot as plt\n",
    "import numpy as np\n",
    "import haversine as hs\n",
    "import gurobipy as gp\n",
    "from gurobipy import GRB\n",
    "\n",
    "# Helper modules\n",
    "import helper_population_allocation as pa\n",
    "import helper_distance_calculation as dc\n",
    "\n",
    "# Avoid printing set copy warnings\n",
    "import warnings\n",
    "warnings.filterwarnings(\"ignore\")\n",
    "\n"
   ]
  },
  {
   "cell_type": "markdown",
   "metadata": {},
   "source": [
    "PRE-OPTIMIZATION SETUP"
   ]
  },
  {
   "cell_type": "code",
   "execution_count": 2,
   "metadata": {},
   "outputs": [
    {
     "name": "stdout",
     "output_type": "stream",
     "text": [
      "modified script\n"
     ]
    }
   ],
   "source": [
    "# Get the main buildings dataset \n",
    "buildings_df = gpd.read_file('../processed_data/relevant_buildings.shp')\n",
    "\n",
    "# Create ID variable\n",
    "buildings_df.reset_index(drop=True, inplace=True)\n",
    "buildings_df['building_id'] = buildings_df.index + 1\n",
    "buildings_df['building_id'] = buildings_df.apply(lambda row: str(row['building_id']) + '-' + str(row['CLASS']) , axis=1)\n",
    "\n",
    "buildings_df = buildings_df.sample(n=5000, random_state=1)  # Remove later\n",
    "\n",
    "\n",
    "# Population parameter (Pj)\n",
    "res_population = pa.get_population(geopandas_dataframe=buildings_df) \n",
    "\n",
    "# Existing access parameter (Aj)\n",
    "res_groc_access =  dc.calculate_access(\n",
    "                            geopandas_dataframe=buildings_df,\n",
    "                            building_type_1='Residential',\n",
    "                            building_type_2='Grocery',\n",
    "                            identifier_column='class_reco', \n",
    "                            geo_column='geometry', \n",
    "                            output_format='dataframe'\n",
    ")\n",
    "\n"
   ]
  },
  {
   "cell_type": "code",
   "execution_count": 4,
   "metadata": {},
   "outputs": [
    {
     "name": "stdout",
     "output_type": "stream",
     "text": [
      "modified script\n"
     ]
    }
   ],
   "source": [
    "# Residential- commercial access parameter (Bij)\n",
    "# Run this once, save dataset (will take forever)\n",
    "res_comm_access = dc.calculate_access(\n",
    "                            geopandas_dataframe=buildings_df,\n",
    "                            building_type_1='Residential',\n",
    "                            building_type_2='commercial',\n",
    "                            identifier_column='class_reco', \n",
    "                            geo_column='geometry', \n",
    "                            output_format='dataframe'\n",
    ")\n"
   ]
  },
  {
   "cell_type": "markdown",
   "metadata": {},
   "source": [
    "OPTIMIZATION\n",
    "\n",
    "Steps:\n",
    "i = set of all commercial buildings\n",
    "j = set of all residential buildings\n",
    "\n",
    "Decision variable:\n",
    "- Ci = 1 if the new grocery store is put in commercial building i, 0 otherwise\n",
    "\n",
    "Parameters:\n",
    "- Aj = 1 if residential building j already has access to a food store (within 1 mile)\n",
    "- Bij = 1 if commercial building i is within 1 mile of residential building j\n",
    "- Pj = Population at building j\n",
    "\n",
    "Objective function:\n",
    "\n",
    "Max $$ \\sum_i \\sum_j (1-A_j)*P_j*B_{ij}*C_i$$\n",
    "\n",
    "Constraint (only 1 grocery store location being allocated):\n",
    "$$ \\sum_i C_i = 1$$\n",
    "\n",
    "\n",
    "\n"
   ]
  },
  {
   "cell_type": "code",
   "execution_count": 5,
   "metadata": {},
   "outputs": [
    {
     "name": "stdout",
     "output_type": "stream",
     "text": [
      "Set parameter Username\n",
      "Academic license - for non-commercial use only - expires 2023-08-24\n",
      "arrays created\n",
      "decision vars added\n",
      "objective function set\n",
      "constraints added\n"
     ]
    }
   ],
   "source": [
    "########################################\n",
    "# SET UP MODEL\n",
    "########################################\n",
    "\n",
    "m = gp.Model(\"food_access\")\n",
    "\n",
    "# Set up arrays for gurobi\n",
    "res_population_array = np.array(res_population[res_population['class_reco'].str.contains('Residential')]['population']) # ith entry corresponds to population at ith residential building \n",
    "res_access_array = np.array(res_groc_access[['building_idResidential', 'access']].groupby('building_idResidential').max('access')['access']) # ith entry corresponds to existing access at ith residential building \n",
    "res_comm_access_matrix = np.array(res_comm_access.pivot(index='commercial_coordinates', columns='Residential_coordinates', values='access')) # entry [i,j] corresponds to Bij\n",
    "\n",
    "print('arrays created')\n",
    "\n",
    "num_commercial_buildings = len(buildings_df[buildings_df['class_reco'].str.contains('commercial')])\n",
    "num_residential_buildings = len(buildings_df[buildings_df['class_reco'].str.contains('Residential')])\n",
    "\n",
    "\n",
    "########################################\n",
    "# ASSIGN DECISION VARIABLES\n",
    "########################################\n",
    "\n",
    "c_i = m.addVars(range(num_commercial_buildings), vtype=GRB.BINARY)\n",
    "\n",
    "print('decision vars added')\n",
    "\n",
    "#######################################\n",
    "# OBJECTIVE FUNCTION\n",
    "########################################\n",
    "\n",
    "m.setObjective(sum(((1-res_access_array[j]) * res_population_array[j] * res_comm_access_matrix[i,j] * c_i[i] for i in range(num_commercial_buildings) for j in range(num_residential_buildings))))\n",
    "m.modelSense = GRB.MAXIMIZE\n",
    "\n",
    "print('objective function set')\n",
    "\n",
    "########################################\n",
    "# CONSTRAINTS\n",
    "########################################\n",
    "\n",
    "m.addConstr(sum(c_i[i] for i in range(num_commercial_buildings)) ==  1) \n",
    "\n",
    "print('constraints added')\n"
   ]
  },
  {
   "cell_type": "code",
   "execution_count": 6,
   "metadata": {},
   "outputs": [
    {
     "name": "stdout",
     "output_type": "stream",
     "text": [
      "Gurobi Optimizer version 9.5.2 build v9.5.2rc0 (win64)\n",
      "Thread count: 4 physical cores, 8 logical processors, using up to 8 threads\n",
      "Optimize a model with 1 rows, 298 columns and 298 nonzeros\n",
      "Model fingerprint: 0x14b9dfd2\n",
      "Variable types: 0 continuous, 298 integer (298 binary)\n",
      "Coefficient statistics:\n",
      "  Matrix range     [1e+00, 1e+00]\n",
      "  Objective range  [3e+00, 1e+03]\n",
      "  Bounds range     [1e+00, 1e+00]\n",
      "  RHS range        [1e+00, 1e+00]\n",
      "Found heuristic solution: objective 37.0000000\n",
      "Presolve removed 1 rows and 298 columns\n",
      "Presolve time: 0.00s\n",
      "Presolve: All rows and columns removed\n",
      "\n",
      "Explored 0 nodes (0 simplex iterations) in 0.01 seconds (0.00 work units)\n",
      "Thread count was 1 (of 8 available processors)\n",
      "\n",
      "Solution count 2: 1175 37 \n",
      "\n",
      "Optimal solution found (tolerance 1.00e-04)\n",
      "Best objective 1.175000000000e+03, best bound 1.175000000000e+03, gap 0.0000%\n"
     ]
    }
   ],
   "source": [
    "# Optimize and see results\n",
    "m.optimize()"
   ]
  },
  {
   "cell_type": "markdown",
   "metadata": {},
   "source": [
    "ORDERING OF ARRAYS SANITY CHECK"
   ]
  },
  {
   "cell_type": "code",
   "execution_count": 7,
   "metadata": {},
   "outputs": [
    {
     "name": "stdout",
     "output_type": "stream",
     "text": [
      "Total new population with access = 1175.0\n",
      "store should be placed in commercial building 69\n"
     ]
    }
   ],
   "source": [
    "# New population impacted\n",
    "print(f\"Total new population with access = {m.objVal}\")\n",
    "\n",
    "# Where is the store being placed (need a better way than this forloop)\n",
    "store_location_index = 0\n",
    "for i in range(num_commercial_buildings):\n",
    "    if c_i[i].x == 1:\n",
    "        store_location_index = i\n",
    "        print(f\"store should be placed in commercial building {i}\")\n",
    "\n"
   ]
  },
  {
   "cell_type": "code",
   "execution_count": 8,
   "metadata": {},
   "outputs": [
    {
     "name": "stdout",
     "output_type": "stream",
     "text": [
      "The chosen building id is 25934-R\n"
     ]
    }
   ],
   "source": [
    "# Now let's check if the ordering makes sense. \n",
    "\n",
    "# Which building is this\n",
    "# Since the res_com_access has a row per unique residential and commercial building combination, let's just find the 59th commercial building for the first residential building\n",
    "chosen_building_id = res_comm_access[res_comm_access['building_idResidential'] =='49763-R']['building_idcommercial'].iloc[store_location_index]\n",
    "print(f\"The chosen building id is {chosen_building_id}\")"
   ]
  },
  {
   "cell_type": "code",
   "execution_count": 16,
   "metadata": {},
   "outputs": [
    {
     "data": {
      "text/html": [
       "<div>\n",
       "<style scoped>\n",
       "    .dataframe tbody tr th:only-of-type {\n",
       "        vertical-align: middle;\n",
       "    }\n",
       "\n",
       "    .dataframe tbody tr th {\n",
       "        vertical-align: top;\n",
       "    }\n",
       "\n",
       "    .dataframe thead th {\n",
       "        text-align: right;\n",
       "    }\n",
       "</style>\n",
       "<table border=\"1\" class=\"dataframe\">\n",
       "  <thead>\n",
       "    <tr style=\"text-align: right;\">\n",
       "      <th></th>\n",
       "      <th>geoid_Residential</th>\n",
       "      <th>tract_id_Residential</th>\n",
       "      <th>Residential_coordinates</th>\n",
       "      <th>building_idResidential</th>\n",
       "      <th>geoid_commercial</th>\n",
       "      <th>tract_id_commercial</th>\n",
       "      <th>commercial_coordinates</th>\n",
       "      <th>building_idcommercial</th>\n",
       "      <th>distance</th>\n",
       "      <th>access</th>\n",
       "    </tr>\n",
       "  </thead>\n",
       "  <tbody>\n",
       "    <tr>\n",
       "      <th>1261</th>\n",
       "      <td>420035632002</td>\n",
       "      <td>563200</td>\n",
       "      <td>(-79.9951063001856, 40.45638468308156)</td>\n",
       "      <td>85754-R</td>\n",
       "      <td>420032412002</td>\n",
       "      <td>241200</td>\n",
       "      <td>(-79.98690607803377, 40.46899524767685)</td>\n",
       "      <td>25934-R</td>\n",
       "      <td>0.586470</td>\n",
       "      <td>1</td>\n",
       "    </tr>\n",
       "    <tr>\n",
       "      <th>2453</th>\n",
       "      <td>420033001005</td>\n",
       "      <td>300100</td>\n",
       "      <td>(-79.99060371696692, 40.410960204296565)</td>\n",
       "      <td>54570-R</td>\n",
       "      <td>420032412002</td>\n",
       "      <td>241200</td>\n",
       "      <td>(-79.98690607803377, 40.46899524767685)</td>\n",
       "      <td>25934-R</td>\n",
       "      <td>0.742419</td>\n",
       "      <td>1</td>\n",
       "    </tr>\n",
       "    <tr>\n",
       "      <th>3049</th>\n",
       "      <td>420030203001</td>\n",
       "      <td>020300</td>\n",
       "      <td>(-79.97974734318176, 40.454858885498055)</td>\n",
       "      <td>72401-R</td>\n",
       "      <td>420032412002</td>\n",
       "      <td>241200</td>\n",
       "      <td>(-79.98690607803377, 40.46899524767685)</td>\n",
       "      <td>25934-R</td>\n",
       "      <td>0.522984</td>\n",
       "      <td>1</td>\n",
       "    </tr>\n",
       "    <tr>\n",
       "      <th>4539</th>\n",
       "      <td>420032901001</td>\n",
       "      <td>290100</td>\n",
       "      <td>(-79.98877120793772, 40.39701389356088)</td>\n",
       "      <td>76118-R</td>\n",
       "      <td>420032412002</td>\n",
       "      <td>241200</td>\n",
       "      <td>(-79.98690607803377, 40.46899524767685)</td>\n",
       "      <td>25934-R</td>\n",
       "      <td>0.874218</td>\n",
       "      <td>1</td>\n",
       "    </tr>\n",
       "    <tr>\n",
       "      <th>6029</th>\n",
       "      <td>420032412002</td>\n",
       "      <td>241200</td>\n",
       "      <td>(-79.99350233395364, 40.45870796730991)</td>\n",
       "      <td>25982-R</td>\n",
       "      <td>420032412002</td>\n",
       "      <td>241200</td>\n",
       "      <td>(-79.98690607803377, 40.46899524767685)</td>\n",
       "      <td>25934-R</td>\n",
       "      <td>0.472206</td>\n",
       "      <td>1</td>\n",
       "    </tr>\n",
       "    <tr>\n",
       "      <th>...</th>\n",
       "      <td>...</td>\n",
       "      <td>...</td>\n",
       "      <td>...</td>\n",
       "      <td>...</td>\n",
       "      <td>...</td>\n",
       "      <td>...</td>\n",
       "      <td>...</td>\n",
       "      <td>...</td>\n",
       "      <td>...</td>\n",
       "      <td>...</td>\n",
       "    </tr>\n",
       "    <tr>\n",
       "      <th>1389345</th>\n",
       "      <td>420032620001</td>\n",
       "      <td>262000</td>\n",
       "      <td>(-79.99728587690483, 40.46646390617516)</td>\n",
       "      <td>35285-R</td>\n",
       "      <td>420032412002</td>\n",
       "      <td>241200</td>\n",
       "      <td>(-79.98690607803377, 40.46899524767685)</td>\n",
       "      <td>25934-R</td>\n",
       "      <td>0.717820</td>\n",
       "      <td>1</td>\n",
       "    </tr>\n",
       "    <tr>\n",
       "      <th>1394411</th>\n",
       "      <td>420031702001</td>\n",
       "      <td>170200</td>\n",
       "      <td>(-79.97832924216891, 40.42990428398907)</td>\n",
       "      <td>79089-R</td>\n",
       "      <td>420032412002</td>\n",
       "      <td>241200</td>\n",
       "      <td>(-79.98690607803377, 40.46899524767685)</td>\n",
       "      <td>25934-R</td>\n",
       "      <td>0.756246</td>\n",
       "      <td>1</td>\n",
       "    </tr>\n",
       "    <tr>\n",
       "      <th>1394709</th>\n",
       "      <td>420033001005</td>\n",
       "      <td>300100</td>\n",
       "      <td>(-79.98847547498661, 40.41791105756967)</td>\n",
       "      <td>55060-R</td>\n",
       "      <td>420032412002</td>\n",
       "      <td>241200</td>\n",
       "      <td>(-79.98690607803377, 40.46899524767685)</td>\n",
       "      <td>25934-R</td>\n",
       "      <td>0.623159</td>\n",
       "      <td>1</td>\n",
       "    </tr>\n",
       "    <tr>\n",
       "      <th>1395007</th>\n",
       "      <td>420031702001</td>\n",
       "      <td>170200</td>\n",
       "      <td>(-79.98236922536847, 40.42768706153529)</td>\n",
       "      <td>78385-R</td>\n",
       "      <td>420032412002</td>\n",
       "      <td>241200</td>\n",
       "      <td>(-79.98690607803377, 40.46899524767685)</td>\n",
       "      <td>25934-R</td>\n",
       "      <td>0.587062</td>\n",
       "      <td>1</td>\n",
       "    </tr>\n",
       "    <tr>\n",
       "      <th>1395305</th>\n",
       "      <td>420031702001</td>\n",
       "      <td>170200</td>\n",
       "      <td>(-79.98576580835986, 40.43065291320135)</td>\n",
       "      <td>78042-R</td>\n",
       "      <td>420032412002</td>\n",
       "      <td>241200</td>\n",
       "      <td>(-79.98690607803377, 40.46899524767685)</td>\n",
       "      <td>25934-R</td>\n",
       "      <td>0.467340</td>\n",
       "      <td>1</td>\n",
       "    </tr>\n",
       "  </tbody>\n",
       "</table>\n",
       "<p>614 rows × 10 columns</p>\n",
       "</div>"
      ],
      "text/plain": [
       "        geoid_Residential tract_id_Residential  \\\n",
       "1261         420035632002               563200   \n",
       "2453         420033001005               300100   \n",
       "3049         420030203001               020300   \n",
       "4539         420032901001               290100   \n",
       "6029         420032412002               241200   \n",
       "...                   ...                  ...   \n",
       "1389345      420032620001               262000   \n",
       "1394411      420031702001               170200   \n",
       "1394709      420033001005               300100   \n",
       "1395007      420031702001               170200   \n",
       "1395305      420031702001               170200   \n",
       "\n",
       "                          Residential_coordinates building_idResidential  \\\n",
       "1261       (-79.9951063001856, 40.45638468308156)                85754-R   \n",
       "2453     (-79.99060371696692, 40.410960204296565)                54570-R   \n",
       "3049     (-79.97974734318176, 40.454858885498055)                72401-R   \n",
       "4539      (-79.98877120793772, 40.39701389356088)                76118-R   \n",
       "6029      (-79.99350233395364, 40.45870796730991)                25982-R   \n",
       "...                                           ...                    ...   \n",
       "1389345   (-79.99728587690483, 40.46646390617516)                35285-R   \n",
       "1394411   (-79.97832924216891, 40.42990428398907)                79089-R   \n",
       "1394709   (-79.98847547498661, 40.41791105756967)                55060-R   \n",
       "1395007   (-79.98236922536847, 40.42768706153529)                78385-R   \n",
       "1395305   (-79.98576580835986, 40.43065291320135)                78042-R   \n",
       "\n",
       "        geoid_commercial tract_id_commercial  \\\n",
       "1261        420032412002              241200   \n",
       "2453        420032412002              241200   \n",
       "3049        420032412002              241200   \n",
       "4539        420032412002              241200   \n",
       "6029        420032412002              241200   \n",
       "...                  ...                 ...   \n",
       "1389345     420032412002              241200   \n",
       "1394411     420032412002              241200   \n",
       "1394709     420032412002              241200   \n",
       "1395007     420032412002              241200   \n",
       "1395305     420032412002              241200   \n",
       "\n",
       "                          commercial_coordinates building_idcommercial  \\\n",
       "1261     (-79.98690607803377, 40.46899524767685)               25934-R   \n",
       "2453     (-79.98690607803377, 40.46899524767685)               25934-R   \n",
       "3049     (-79.98690607803377, 40.46899524767685)               25934-R   \n",
       "4539     (-79.98690607803377, 40.46899524767685)               25934-R   \n",
       "6029     (-79.98690607803377, 40.46899524767685)               25934-R   \n",
       "...                                          ...                   ...   \n",
       "1389345  (-79.98690607803377, 40.46899524767685)               25934-R   \n",
       "1394411  (-79.98690607803377, 40.46899524767685)               25934-R   \n",
       "1394709  (-79.98690607803377, 40.46899524767685)               25934-R   \n",
       "1395007  (-79.98690607803377, 40.46899524767685)               25934-R   \n",
       "1395305  (-79.98690607803377, 40.46899524767685)               25934-R   \n",
       "\n",
       "         distance  access  \n",
       "1261     0.586470       1  \n",
       "2453     0.742419       1  \n",
       "3049     0.522984       1  \n",
       "4539     0.874218       1  \n",
       "6029     0.472206       1  \n",
       "...           ...     ...  \n",
       "1389345  0.717820       1  \n",
       "1394411  0.756246       1  \n",
       "1394709  0.623159       1  \n",
       "1395007  0.587062       1  \n",
       "1395305  0.467340       1  \n",
       "\n",
       "[614 rows x 10 columns]"
      ]
     },
     "execution_count": 16,
     "metadata": {},
     "output_type": "execute_result"
    }
   ],
   "source": [
    "# Which Residential buildings have access to this building and don't have current access\n",
    "res_buildings = res_comm_access[res_comm_access['building_idcommercial']==chosen_building_id]\n",
    "res_buildings = res_buildings[res_comm_access['access']==1]\n",
    "res_buildings"
   ]
  },
  {
   "cell_type": "code",
   "execution_count": 22,
   "metadata": {},
   "outputs": [
    {
     "data": {
      "text/plain": [
       "808"
      ]
     },
     "execution_count": 22,
     "metadata": {},
     "output_type": "execute_result"
    }
   ],
   "source": [
    "# Lets add up the population in all the buildings in res_buildings and see if that value matches the optimum function value\n",
    "res_population.rename(columns={'building_id': \"building_idResidential\"},inplace=True)\n",
    "res_buildings_pop = pd.merge(res_buildings, res_population, on ='building_idResidential', how='inner')\n",
    "np.sum(res_buildings_pop['population'])"
   ]
  },
  {
   "cell_type": "code",
   "execution_count": 23,
   "metadata": {},
   "outputs": [
    {
     "name": "stdout",
     "output_type": "stream",
     "text": [
      "manual and gurobi result value does not match, fix ordering of arrays\n"
     ]
    }
   ],
   "source": [
    "if np.sum(res_buildings_pop['population']) == m.objval:\n",
    "    print('results match and ordering makes sense')\n",
    "\n",
    "else:\n",
    "    print('manual and gurobi result value does not match, fix ordering of arrays')"
   ]
  }
 ],
 "metadata": {
  "kernelspec": {
   "display_name": "Python 3.9.7 ('base')",
   "language": "python",
   "name": "python3"
  },
  "language_info": {
   "codemirror_mode": {
    "name": "ipython",
    "version": 3
   },
   "file_extension": ".py",
   "mimetype": "text/x-python",
   "name": "python",
   "nbconvert_exporter": "python",
   "pygments_lexer": "ipython3",
   "version": "3.9.7"
  },
  "orig_nbformat": 4,
  "vscode": {
   "interpreter": {
    "hash": "5d4f5192cbef441c1a91544256fda345f2ac6133655739deabd8e098ce5e8079"
   }
  }
 },
 "nbformat": 4,
 "nbformat_minor": 2
}
