{
 "cells": [
  {
   "cell_type": "code",
   "execution_count": 1,
   "metadata": {},
   "outputs": [
    {
     "name": "stderr",
     "output_type": "stream",
     "text": [
      "c:\\Users\\mihir\\anaconda3\\lib\\site-packages\\numpy\\_distributor_init.py:30: UserWarning: loaded more than 1 DLL from .libs:\n",
      "c:\\Users\\mihir\\anaconda3\\lib\\site-packages\\numpy\\.libs\\libopenblas.EL2C6PLE4ZYW3ECEVIV3OXXGRN2NRFM2.gfortran-win_amd64.dll\n",
      "c:\\Users\\mihir\\anaconda3\\lib\\site-packages\\numpy\\.libs\\libopenblas.WCDJNK7YVMPZQ2ME2ZZHJJRJ3JIKNDB7.gfortran-win_amd64.dll\n",
      "c:\\Users\\mihir\\anaconda3\\lib\\site-packages\\numpy\\.libs\\libopenblas.XWYDX2IKJW2NMTWSFYNGFUWKQU3LYTCZ.gfortran-win_amd64.dll\n",
      "  warnings.warn(\"loaded more than 1 DLL from .libs:\"\n"
     ]
    }
   ],
   "source": [
    "# Import libraries\n",
    "import geopandas as gpd\n",
    "import pandas as pd\n",
    "import matplotlib.pyplot as plt\n",
    "import numpy as np\n",
    "import haversine as hs\n",
    "import gurobipy as gp\n",
    "from gurobipy import GRB\n",
    "\n",
    "# Helper modules\n",
    "import helper_population_allocation as pa\n",
    "import helper_distance_calculation as dc\n",
    "\n",
    "# Avoid printing set copy warnings\n",
    "import warnings\n",
    "warnings.filterwarnings(\"ignore\")"
   ]
  },
  {
   "cell_type": "code",
   "execution_count": 5,
   "metadata": {},
   "outputs": [
    {
     "name": "stdout",
     "output_type": "stream",
     "text": [
      "modified script\n"
     ]
    }
   ],
   "source": [
    "# Get the main buildings dataset \n",
    "buildings_df = gpd.read_file('../processed_data/spatial_data/relevant_buildings.shp')\n",
    "\n",
    "# Create ID variable\n",
    "buildings_df.reset_index(drop=True, inplace=True)\n",
    "buildings_df['building_id'] = buildings_df.index + 1\n",
    "buildings_df['building_id'] = buildings_df.apply(lambda row: str(row['building_id']) + '-' + str(row['CLASS']) , axis=1)\n",
    "\n",
    "buildings_df = buildings_df.sample(n=2000, random_state=1)  # Remove later\n",
    "\n",
    "\n",
    "# Population parameter (Pj)\n",
    "res_population = pa.get_population(geopandas_dataframe=buildings_df) \n",
    "\n",
    "# Existing access parameter (Aj)\n",
    "res_groc_access =  dc.calculate_access(\n",
    "                            geopandas_dataframe=buildings_df,\n",
    "                            building_type_1='Residential',\n",
    "                            building_type_2='Grocery',\n",
    "                            identifier_column='class_reco', \n",
    "                            geo_column='geometry', \n",
    "                            output_format='dataframe'\n",
    ")\n",
    "\n"
   ]
  },
  {
   "cell_type": "code",
   "execution_count": 6,
   "metadata": {},
   "outputs": [
    {
     "name": "stdout",
     "output_type": "stream",
     "text": [
      "modified script\n"
     ]
    }
   ],
   "source": [
    "# Residential- commercial access parameter (Bij)\n",
    "# Run this once, save dataset (will take forever)\n",
    "res_comm_access = dc.calculate_access(\n",
    "                            geopandas_dataframe=buildings_df,\n",
    "                            building_type_1='Residential',\n",
    "                            building_type_2='commercial',\n",
    "                            identifier_column='class_reco', \n",
    "                            geo_column='geometry', \n",
    "                            output_format='dataframe'\n",
    ")\n"
   ]
  },
  {
   "cell_type": "code",
   "execution_count": 7,
   "metadata": {},
   "outputs": [],
   "source": [
    "# Sort data, create arrays for gurobi optimization so that ordering is maintained\n",
    "\n",
    "# Res population\n",
    "res_population = res_population.sort_values('building_id')\n",
    "res_population_array = np.array(res_population[res_population['class_reco'].str.contains('Residential')]['population']) # ith entry corresponds to population at ith residential building \n",
    "\n",
    "# Res access\n",
    "res_groc_access = res_groc_access[['building_idResidential', 'access']].groupby('building_idResidential').max('access').sort_values('building_idResidential')\n",
    "res_access_array = np.array(res_groc_access['access']) # ith entry corresponds to existing access at ith residential building \n",
    "\n",
    "# Res comm access (we will not create a matrix because it messes up ordering. We will directly use the values from the dataframe, but will sort it)\n",
    "res_comm_access = res_comm_access.sort_values(by=['building_idResidential', 'building_idcommercial'])\n",
    "\n",
    "# create a sorted list of all residential building ids\n",
    "res_buildings = np.array(res_population['building_id'])\n",
    "\n",
    "# Create a sorted list of all commercial buildings\n",
    "# Just picking one residential building ID and getting all the associated commercial building IDs for that would do the job\n",
    "# Since this dataframe contains a unique row per residential commercial building pair, sorted by (residential, commercial)\n",
    "comm_buildings = np.array(res_comm_access[res_comm_access['building_idResidential'] == '100022-R']['building_idcommercial'])"
   ]
  },
  {
   "cell_type": "code",
   "execution_count": 54,
   "metadata": {},
   "outputs": [
    {
     "data": {
      "text/plain": [
       "array([[1.85729108, 0.6263021 , 0.65820969, ..., 7.09482637, 0.17846824,\n",
       "        0.08355205],\n",
       "       [1.91416127, 0.67268775, 0.70031637, ..., 7.15618594, 0.2409595 ,\n",
       "        0.14514537],\n",
       "       [1.96117625, 0.71756449, 0.743699  , ..., 7.2023988 , 0.28409485,\n",
       "        0.18729035],\n",
       "       ...,\n",
       "       [2.229564  , 0.9779635 , 0.99815464, ..., 7.46600528, 0.54249197,\n",
       "        0.44663433],\n",
       "       [2.21136671, 0.9552918 , 0.97393582, ..., 7.45370979, 0.53126633,\n",
       "        0.43468327],\n",
       "       [2.14001173, 0.89552137, 0.91902741, ..., 7.37288884, 0.44934988,\n",
       "        0.353758  ]])"
      ]
     },
     "execution_count": 54,
     "metadata": {},
     "output_type": "execute_result"
    }
   ],
   "source": [
    "# Create a matrix because optimization takes too long otherwise. \n",
    "# Should brainstorm how to make this matrix creation faster. I used pandas.pivot and that works but messes up the ordering\n",
    "\n",
    "res_comm_distance_matrix = np.zeros((len(res_buildings), len(comm_buildings)))\n",
    "\n",
    "for i in range(len(res_buildings)):\n",
    "    building_id = res_buildings[i]\n",
    "    insert_array = np.array(res_comm_access[res_comm_access['building_idResidential'] == building_id]['distance'])\n",
    "\n",
    "    res_comm_distance_matrix[i] = insert_array\n",
    "\n",
    "res_comm_distance_matrix"
   ]
  },
  {
   "cell_type": "code",
   "execution_count": 61,
   "metadata": {},
   "outputs": [
    {
     "data": {
      "text/plain": [
       "(array([   0,    0,    0, ..., 1880, 1880, 1880], dtype=int64),\n",
       " array([  1,   2,   3, ..., 111, 113, 114], dtype=int64))"
      ]
     },
     "execution_count": 61,
     "metadata": {},
     "output_type": "execute_result"
    }
   ],
   "source": [
    "# Figure out thresholding later\n",
    "\n",
    "# np.where(res_comm_distance_matrix <= 1)\n",
    "\n",
    "# res_comm_distance_matrix <= 1\n",
    "\n",
    "\n",
    "# pairings = {(c, r): res_comm_distance_matrix\n",
    "#             for facility in range(num_candidates)\n",
    "#             for cluster in range(num_clusters) \n",
    "#             if  dist(facility_locs[facility], centroids[cluster]) < threshold}\n",
    "# print(\"Number of viable pairings: {0}\".format(len(pairings.keys())))"
   ]
  },
  {
   "cell_type": "code",
   "execution_count": 97,
   "metadata": {},
   "outputs": [
    {
     "data": {
      "text/plain": [
       "(1881, 115)"
      ]
     },
     "execution_count": 97,
     "metadata": {},
     "output_type": "execute_result"
    }
   ],
   "source": [
    "res_comm_distance_matrix.shape"
   ]
  },
  {
   "cell_type": "code",
   "execution_count": 99,
   "metadata": {},
   "outputs": [
    {
     "data": {
      "text/plain": [
       "1881"
      ]
     },
     "execution_count": 99,
     "metadata": {},
     "output_type": "execute_result"
    }
   ],
   "source": [
    "len(res_population_array)"
   ]
  },
  {
   "cell_type": "code",
   "execution_count": 95,
   "metadata": {},
   "outputs": [
    {
     "name": "stdout",
     "output_type": "stream",
     "text": [
      "Gurobi Optimizer version 9.5.2 build v9.5.2rc0 (win64)\n",
      "Thread count: 4 physical cores, 8 logical processors, using up to 8 threads\n",
      "Optimize a model with 216317 rows, 216430 columns and 432860 nonzeros\n",
      "Model fingerprint: 0x15928328\n",
      "Variable types: 0 continuous, 216430 integer (216430 binary)\n",
      "Coefficient statistics:\n",
      "  Matrix range     [1e+00, 1e+00]\n",
      "  Objective range  [8e-03, 1e+02]\n",
      "  Bounds range     [1e+00, 1e+00]\n",
      "  RHS range        [1e+00, 3e+00]\n",
      "Found heuristic solution: objective 0.0000000\n",
      "\n",
      "Explored 0 nodes (0 simplex iterations) in 0.05 seconds (0.02 work units)\n",
      "Thread count was 1 (of 8 available processors)\n",
      "\n",
      "Solution count 1: 0 \n",
      "\n",
      "Optimal solution found (tolerance 1.00e-04)\n",
      "Best objective 0.000000000000e+00, best bound 0.000000000000e+00, gap 0.0000%\n"
     ]
    }
   ],
   "source": [
    "### Testing modeling stuff\n",
    "\n",
    "# Create demand matrix - number of unsatisfied customers\n",
    "res_demand = res_population_array\n",
    "res_demand[np.where(res_access_array == 1)] = 0 # setting effective demand to zero for buildings that have existing access to a grocery store\n",
    "\n",
    "# Parameters\n",
    "num_commercial_buildings = res_comm_distance_matrix.shape[1]\n",
    "num_residential_buildings = len(res_demand)\n",
    "num_stores = 3\n",
    "\n",
    "# Implement model\n",
    "m = gp.Model('Facility location')\n",
    "\n",
    "# Decision variables \n",
    "select = m.addVars(range(num_commercial_buildings), vtype=GRB.BINARY, name='select') # select location\n",
    "assign = m.addVars(range(num_residential_buildings), range(num_commercial_buildings), vtype=GRB.BINARY, name='assign') # assignment of residential building to cluster\n",
    "\n",
    "# Objective function - min total distance from residential buildings to their assigned grocery store, multiplied by demand\n",
    "m.setObjective(sum(sum(res_demand[i] * res_comm_distance_matrix[i,j] * assign[i, j] for i in range(num_residential_buildings)) for j in range(num_commercial_buildings)))\n",
    "m.modelSense = GRB.MINIMIZE\n",
    "\n",
    "# Constraints\n",
    "m.addConstr(sum(select[i] for i in range(len(select))) <= num_stores, name='store_limit')\n",
    "\n",
    "#m.addConstr(select.sum() <= num_stores, name = 'store_limit') # Facility limit\n",
    "for i in range(num_residential_buildings):\n",
    "    m.addConstr(sum(assign[i,j] for j in range(num_commercial_buildings)) ==  1) # can only assign each residential building to one store\n",
    "\n",
    "for i in range(num_residential_buildings):\n",
    "    for j in range(num_commercial_buildings):\n",
    "        m.addConstr(assign[i,j] <= select[j], name='open2assign') # locations can only be assigned demand if they are selected\n",
    "\n",
    "# Optimize\n",
    "m.optimize()\n"
   ]
  },
  {
   "cell_type": "code",
   "execution_count": 90,
   "metadata": {},
   "outputs": [
    {
     "data": {
      "text/plain": [
       "0.45941713065146883"
      ]
     },
     "execution_count": 90,
     "metadata": {},
     "output_type": "execute_result"
    }
   ],
   "source": [
    "m.objVal"
   ]
  },
  {
   "cell_type": "code",
   "execution_count": null,
   "metadata": {},
   "outputs": [],
   "source": []
  },
  {
   "cell_type": "code",
   "execution_count": 91,
   "metadata": {},
   "outputs": [
    {
     "data": {
      "text/plain": [
       "1.0"
      ]
     },
     "execution_count": 91,
     "metadata": {},
     "output_type": "execute_result"
    }
   ],
   "source": [
    "counter = 0\n",
    "for i in range(len(select)):\n",
    "    counter += select[i].x\n",
    "\n",
    "counter"
   ]
  },
  {
   "cell_type": "code",
   "execution_count": null,
   "metadata": {},
   "outputs": [],
   "source": []
  }
 ],
 "metadata": {
  "kernelspec": {
   "display_name": "Python 3.8.8 ('base')",
   "language": "python",
   "name": "python3"
  },
  "language_info": {
   "codemirror_mode": {
    "name": "ipython",
    "version": 3
   },
   "file_extension": ".py",
   "mimetype": "text/x-python",
   "name": "python",
   "nbconvert_exporter": "python",
   "pygments_lexer": "ipython3",
   "version": "3.8.8"
  },
  "orig_nbformat": 4,
  "vscode": {
   "interpreter": {
    "hash": "47c626452ef4ef3e74376d35c302fcf9bdc1b9327d6e04736eb914a557504e89"
   }
  }
 },
 "nbformat": 4,
 "nbformat_minor": 2
}
