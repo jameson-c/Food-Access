{
 "cells": [
  {
   "cell_type": "markdown",
   "metadata": {},
   "source": [
    "This notebook performs the optimization task to find the location where a new grocery store should be placed, to maximize access\n",
    "\n",
    "How this works (implementation):\n",
    "\n",
    "1. Use the helper_population_allocation.py to allocate a population count to each residential building (not ready yet, some placeholder function in there)\n",
    "2. Use the helper_distance_calculation.py to calculate existing access and distance between a residential and commercial building\n",
    "3. Once 1 and 2 are done, all parameters are ready. \n",
    "\n",
    "4. Then this notebook does some pre optimization setup and then runs an optimization model in Gurobi. It's pretty anti climatic. \n",
    "\n",
    "Next steps:\n",
    "\n",
    "- Update the population allocation helper file\n",
    "- Figure out the correct ordering of arrays. It's not accurate currently \n"
   ]
  },
  {
   "cell_type": "code",
   "execution_count": 96,
   "metadata": {},
   "outputs": [],
   "source": [
    "# Import libraries\n",
    "import geopandas as gpd\n",
    "import pandas as pd\n",
    "import matplotlib.pyplot as plt\n",
    "import numpy as np\n",
    "import haversine as hs\n",
    "import gurobipy as gp\n",
    "from gurobipy import GRB\n",
    "\n",
    "# Helper modules\n",
    "import helper_population_allocation as pa\n",
    "import helper_distance_calculation as dc\n",
    "\n",
    "# Avoid printing set copy warnings\n",
    "import warnings\n",
    "warnings.filterwarnings(\"ignore\")\n",
    "\n"
   ]
  },
  {
   "cell_type": "markdown",
   "metadata": {},
   "source": [
    "PRE-OPTIMIZATION SETUP"
   ]
  },
  {
   "cell_type": "code",
   "execution_count": 97,
   "metadata": {},
   "outputs": [
    {
     "name": "stdout",
     "output_type": "stream",
     "text": [
      "Wall time: 8.91 s\n"
     ]
    }
   ],
   "source": [
    "%%time\n",
    "\n",
    "# Get the main buildings dataset \n",
    "buildings_df = gpd.read_file('../processed_data/relevant_buildings.shp')\n",
    "\n",
    "# Create ID variable\n",
    "buildings_df.reset_index(drop=True, inplace=True)\n",
    "buildings_df['building_id'] = buildings_df.index + 1\n",
    "buildings_df['building_id'] = buildings_df.apply(lambda row: str(row['building_id']) + '-' + str(row['CLASS']) , axis=1)\n",
    "\n",
    "buildings_df = buildings_df.sample(n=2000, random_state=1)  # Remove later\n",
    "\n",
    "\n"
   ]
  },
  {
   "cell_type": "code",
   "execution_count": 98,
   "metadata": {},
   "outputs": [],
   "source": [
    "# Create arrays to track ordering (residential)\n",
    "res_buildings = buildings_df[buildings_df['class_reco'].str.contains('Residential')]\n",
    "res_buildings = res_buildings.sort_values('building_id')\n",
    "res_buildings = dc.get_geocoordinate(res_buildings, 'geometry')\n",
    "\n",
    "res_buildings_array = np.array(res_buildings['building_id'])\n",
    "res_buildings_coordinates_array = np.array(res_buildings['coordinates'])"
   ]
  },
  {
   "cell_type": "code",
   "execution_count": 99,
   "metadata": {},
   "outputs": [],
   "source": [
    "# Create arrays to track ordering (Commercial)\n",
    "comm_buildings = buildings_df[buildings_df['class_reco'].str.contains('commercial')]\n",
    "comm_buildings = comm_buildings.sort_values('building_id')\n",
    "comm_buildings = dc.get_geocoordinate(comm_buildings, 'geometry')\n",
    "\n",
    "comm_buildings_array = np.array(comm_buildings['building_id'])\n",
    "comm_buildings_coordinates_array = np.array(comm_buildings['coordinates'])\n"
   ]
  },
  {
   "cell_type": "code",
   "execution_count": 100,
   "metadata": {},
   "outputs": [],
   "source": [
    "# Create arrays to track ordering (grocery stores)\n",
    "grocery_stores = buildings_df[buildings_df['class_reco'].str.contains('Grocery')]\n",
    "grocery_stores = grocery_stores.sort_values('building_id')\n",
    "grocery_stores = dc.get_geocoordinate(grocery_stores, 'geometry')\n",
    "\n",
    "grocery_stores_array = np.array(grocery_stores['building_id'])\n",
    "grocery_stores_coordinates_array = np.array(grocery_stores['coordinates'])\n"
   ]
  },
  {
   "cell_type": "code",
   "execution_count": 101,
   "metadata": {},
   "outputs": [],
   "source": [
    "# Create parameter matrices (Res comm access matrix - Bij)\n",
    "# [i,j] value indicates whether residential building i is within access distance of commercial building j\n",
    "res_comm_distance_matrix, res_comm_access_matrix = dc.calculate_access(res_buildings_coordinates_array, comm_buildings_coordinates_array)"
   ]
  },
  {
   "cell_type": "code",
   "execution_count": 102,
   "metadata": {},
   "outputs": [],
   "source": [
    "# Create parameter matrices (Res groc access array - Aj)\n",
    "# ith value indicates whether the ith residential building has existing access\n",
    "res_groc_distance_matrix, res_groc_access_matrix = dc.calculate_access(res_buildings_coordinates_array, grocery_stores_coordinates_array)\n",
    "res_access_array = np.amax(res_groc_access_matrix, 1)\n"
   ]
  },
  {
   "cell_type": "code",
   "execution_count": 103,
   "metadata": {},
   "outputs": [
    {
     "data": {
      "text/plain": [
       "array([10, 10, 10, ...,  2,  2,  2], dtype=int64)"
      ]
     },
     "execution_count": 103,
     "metadata": {},
     "output_type": "execute_result"
    }
   ],
   "source": [
    "# Create parameter matrices (Res Population - Pj)\n",
    "# ith value indicates the population in the ith column\n",
    "res_population = pa.get_population(geopandas_dataframe=res_buildings) \n",
    "res_population_array = np.array(res_population['population'])\n",
    "res_population_array"
   ]
  },
  {
   "cell_type": "markdown",
   "metadata": {},
   "source": [
    "OPTIMIZATION\n",
    "\n",
    "Steps:\n",
    "i = set of all commercial buildings\n",
    "j = set of all residential buildings\n",
    "\n",
    "Decision variable:\n",
    "- Ci = 1 if the new grocery store is put in commercial building i, 0 otherwise\n",
    "\n",
    "Parameters:\n",
    "- Aj = 1 if residential building j already has access to a food store (within 1 mile)\n",
    "- Bij = 1 if commercial building i is within 1 mile of residential building j\n",
    "- Pj = Population at building j\n",
    "\n",
    "Objective function:\n",
    "\n",
    "Max $$ \\sum_i \\sum_j (1-A_j)*P_j*B_{ij}*C_i$$\n",
    "\n",
    "Constraint (only 1 grocery store location being allocated):\n",
    "$$ \\sum_i C_i = 1$$\n",
    "\n",
    "\n",
    "\n"
   ]
  },
  {
   "cell_type": "code",
   "execution_count": 104,
   "metadata": {},
   "outputs": [
    {
     "name": "stdout",
     "output_type": "stream",
     "text": [
      "decision vars added\n",
      "objective function set\n",
      "constraints added\n"
     ]
    }
   ],
   "source": [
    "########################################\n",
    "# SET UP MODEL\n",
    "########################################\n",
    "\n",
    "m = gp.Model(\"food_access\")\n",
    "\n",
    "num_commercial_buildings = len(comm_buildings_array)\n",
    "num_residential_buildings = len(res_buildings_array)\n",
    "\n",
    "\n",
    "########################################\n",
    "# ASSIGN DECISION VARIABLES\n",
    "########################################\n",
    "\n",
    "c_i = m.addVars(range(num_commercial_buildings), vtype=GRB.BINARY)\n",
    "\n",
    "print('decision vars added')\n",
    "\n",
    "#######################################\n",
    "# OBJECTIVE FUNCTION\n",
    "########################################\n",
    "\n",
    "m.setObjective(sum(((1-res_access_array[j]) \n",
    "                        * res_population_array[j] \n",
    "                        * res_comm_access_matrix.T[i,j]\n",
    "                        * c_i[i] \n",
    "                    for j in range(num_residential_buildings) \n",
    "                for i in range(num_commercial_buildings))))\n",
    "m.modelSense = GRB.MAXIMIZE\n",
    "\n",
    "print('objective function set')\n",
    "\n",
    "########################################\n",
    "# CONSTRAINTS\n",
    "########################################\n",
    "\n",
    "m.addConstr(sum(c_i[i] for i in range(num_commercial_buildings)) ==  1) \n",
    "\n",
    "print('constraints added')\n"
   ]
  },
  {
   "cell_type": "code",
   "execution_count": 105,
   "metadata": {},
   "outputs": [
    {
     "name": "stdout",
     "output_type": "stream",
     "text": [
      "Gurobi Optimizer version 9.5.2 build v9.5.2rc0 (win64)\n",
      "Thread count: 4 physical cores, 8 logical processors, using up to 8 threads\n",
      "Optimize a model with 1 rows, 115 columns and 115 nonzeros\n",
      "Model fingerprint: 0x1b5356fe\n",
      "Variable types: 0 continuous, 115 integer (115 binary)\n",
      "Coefficient statistics:\n",
      "  Matrix range     [1e+00, 1e+00]\n",
      "  Objective range  [1e+00, 7e+02]\n",
      "  Bounds range     [1e+00, 1e+00]\n",
      "  RHS range        [1e+00, 1e+00]\n",
      "Found heuristic solution: objective 495.0000000\n",
      "Presolve removed 1 rows and 115 columns\n",
      "Presolve time: 0.00s\n",
      "Presolve: All rows and columns removed\n",
      "\n",
      "Explored 0 nodes (0 simplex iterations) in 0.01 seconds (0.00 work units)\n",
      "Thread count was 1 (of 8 available processors)\n",
      "\n",
      "Solution count 2: 655 495 \n",
      "\n",
      "Optimal solution found (tolerance 1.00e-04)\n",
      "Best objective 6.550000000000e+02, best bound 6.550000000000e+02, gap 0.0000%\n"
     ]
    }
   ],
   "source": [
    "# Optimize and see results\n",
    "m.optimize()"
   ]
  },
  {
   "cell_type": "markdown",
   "metadata": {},
   "source": [
    "ORDERING OF ARRAYS SANITY CHECK"
   ]
  },
  {
   "cell_type": "code",
   "execution_count": 106,
   "metadata": {},
   "outputs": [
    {
     "name": "stdout",
     "output_type": "stream",
     "text": [
      "Total new population with access = 655.0\n",
      "store should be placed in commercial building 32\n"
     ]
    }
   ],
   "source": [
    "# New population impacted\n",
    "print(f\"Total new population with access = {m.objVal}\")\n",
    "\n",
    "# Where is the store being placed (need a better way than this forloop)\n",
    "store_location_index = 0\n",
    "for i in range(num_commercial_buildings):\n",
    "    if c_i[i].x == 1:\n",
    "        store_location_index = i\n",
    "        print(f\"store should be placed in commercial building {i}\")\n",
    "\n"
   ]
  },
  {
   "cell_type": "code",
   "execution_count": 107,
   "metadata": {},
   "outputs": [
    {
     "name": "stdout",
     "output_type": "stream",
     "text": [
      "The chosen building id is 25316-C\n"
     ]
    }
   ],
   "source": [
    "# Now let's check if the ordering makes sense. \n",
    "\n",
    "# Which building is this\n",
    "chosen_building_id = comm_buildings_array[store_location_index]\n",
    "print(f\"The chosen building id is {chosen_building_id}\")"
   ]
  },
  {
   "cell_type": "code",
   "execution_count": 108,
   "metadata": {},
   "outputs": [
    {
     "data": {
      "text/plain": [
       "[53,\n",
       " 54,\n",
       " 55,\n",
       " 56,\n",
       " 57,\n",
       " 58,\n",
       " 59,\n",
       " 60,\n",
       " 61,\n",
       " 62,\n",
       " 63,\n",
       " 64,\n",
       " 65,\n",
       " 66,\n",
       " 67,\n",
       " 68,\n",
       " 69,\n",
       " 70,\n",
       " 81,\n",
       " 82,\n",
       " 83,\n",
       " 84,\n",
       " 85,\n",
       " 86,\n",
       " 88,\n",
       " 89,\n",
       " 90,\n",
       " 91,\n",
       " 226,\n",
       " 227,\n",
       " 228,\n",
       " 229,\n",
       " 230,\n",
       " 231,\n",
       " 232,\n",
       " 233,\n",
       " 235,\n",
       " 236,\n",
       " 237,\n",
       " 270,\n",
       " 271,\n",
       " 272,\n",
       " 273,\n",
       " 274,\n",
       " 275,\n",
       " 276,\n",
       " 450,\n",
       " 451,\n",
       " 452,\n",
       " 453,\n",
       " 454,\n",
       " 455,\n",
       " 456,\n",
       " 457,\n",
       " 459,\n",
       " 460,\n",
       " 461,\n",
       " 462,\n",
       " 464,\n",
       " 465,\n",
       " 466,\n",
       " 468,\n",
       " 469,\n",
       " 470,\n",
       " 471,\n",
       " 472,\n",
       " 474,\n",
       " 475,\n",
       " 476,\n",
       " 477,\n",
       " 478,\n",
       " 479,\n",
       " 480,\n",
       " 481,\n",
       " 482,\n",
       " 483,\n",
       " 485,\n",
       " 486,\n",
       " 488,\n",
       " 489,\n",
       " 490,\n",
       " 491,\n",
       " 492,\n",
       " 493,\n",
       " 494,\n",
       " 495,\n",
       " 496,\n",
       " 507,\n",
       " 508,\n",
       " 509,\n",
       " 511,\n",
       " 513,\n",
       " 514,\n",
       " 515,\n",
       " 518,\n",
       " 519,\n",
       " 521,\n",
       " 522,\n",
       " 524,\n",
       " 525,\n",
       " 527,\n",
       " 531,\n",
       " 532,\n",
       " 533,\n",
       " 535,\n",
       " 536,\n",
       " 537,\n",
       " 540,\n",
       " 542,\n",
       " 544,\n",
       " 545,\n",
       " 546,\n",
       " 547,\n",
       " 549,\n",
       " 550,\n",
       " 552,\n",
       " 555,\n",
       " 974,\n",
       " 975,\n",
       " 976,\n",
       " 977,\n",
       " 978,\n",
       " 979,\n",
       " 980,\n",
       " 981,\n",
       " 982,\n",
       " 983,\n",
       " 984,\n",
       " 985,\n",
       " 986,\n",
       " 987,\n",
       " 988,\n",
       " 989,\n",
       " 990,\n",
       " 991,\n",
       " 1004]"
      ]
     },
     "execution_count": 108,
     "metadata": {},
     "output_type": "execute_result"
    }
   ],
   "source": [
    "# Let's find all residential buildings that fall within this commercial buildings access range\n",
    "relevant_res_indices = list(res_comm_access_matrix[:,store_location_index].nonzero()[0])\n",
    "relevant_res_indices"
   ]
  },
  {
   "cell_type": "code",
   "execution_count": 109,
   "metadata": {},
   "outputs": [
    {
     "data": {
      "text/plain": [
       "[53,\n",
       " 54,\n",
       " 55,\n",
       " 56,\n",
       " 57,\n",
       " 58,\n",
       " 59,\n",
       " 60,\n",
       " 61,\n",
       " 62,\n",
       " 63,\n",
       " 64,\n",
       " 65,\n",
       " 66,\n",
       " 67,\n",
       " 68,\n",
       " 69,\n",
       " 70,\n",
       " 81,\n",
       " 82,\n",
       " 83,\n",
       " 84,\n",
       " 85,\n",
       " 86,\n",
       " 88,\n",
       " 89,\n",
       " 90,\n",
       " 91,\n",
       " 226,\n",
       " 227,\n",
       " 228,\n",
       " 229,\n",
       " 230,\n",
       " 231,\n",
       " 232,\n",
       " 233,\n",
       " 235,\n",
       " 236,\n",
       " 237,\n",
       " 270,\n",
       " 271,\n",
       " 272,\n",
       " 273,\n",
       " 274,\n",
       " 275,\n",
       " 276,\n",
       " 450,\n",
       " 451,\n",
       " 452,\n",
       " 453,\n",
       " 454,\n",
       " 455,\n",
       " 456,\n",
       " 457,\n",
       " 459,\n",
       " 460,\n",
       " 461,\n",
       " 462,\n",
       " 464,\n",
       " 465,\n",
       " 466,\n",
       " 468,\n",
       " 469,\n",
       " 470,\n",
       " 471,\n",
       " 472,\n",
       " 474,\n",
       " 475,\n",
       " 476,\n",
       " 477,\n",
       " 478,\n",
       " 479,\n",
       " 480,\n",
       " 481,\n",
       " 482,\n",
       " 483,\n",
       " 485,\n",
       " 486,\n",
       " 488,\n",
       " 489,\n",
       " 490,\n",
       " 491,\n",
       " 492,\n",
       " 493,\n",
       " 494,\n",
       " 495,\n",
       " 496,\n",
       " 507,\n",
       " 508,\n",
       " 509,\n",
       " 511,\n",
       " 513,\n",
       " 514,\n",
       " 515,\n",
       " 518,\n",
       " 519,\n",
       " 521,\n",
       " 522,\n",
       " 524,\n",
       " 525,\n",
       " 527,\n",
       " 531,\n",
       " 533,\n",
       " 536,\n",
       " 537,\n",
       " 540,\n",
       " 542,\n",
       " 544,\n",
       " 545,\n",
       " 546,\n",
       " 547,\n",
       " 549,\n",
       " 550,\n",
       " 552,\n",
       " 555,\n",
       " 974,\n",
       " 975,\n",
       " 976,\n",
       " 977,\n",
       " 978,\n",
       " 979,\n",
       " 980,\n",
       " 981,\n",
       " 982,\n",
       " 983,\n",
       " 984,\n",
       " 985,\n",
       " 986,\n",
       " 987,\n",
       " 988,\n",
       " 989,\n",
       " 990,\n",
       " 991,\n",
       " 1004]"
      ]
     },
     "execution_count": 109,
     "metadata": {},
     "output_type": "execute_result"
    }
   ],
   "source": [
    "# Which Residential buildings have access to this building and don't have current access\n",
    "for i in relevant_res_indices:\n",
    "    if res_access_array[i] == 1:\n",
    "        relevant_res_indices.remove(i)\n",
    "\n",
    "relevant_res_indices"
   ]
  },
  {
   "cell_type": "code",
   "execution_count": 110,
   "metadata": {},
   "outputs": [
    {
     "name": "stdout",
     "output_type": "stream",
     "text": [
      "655\n"
     ]
    }
   ],
   "source": [
    "# Lets add up the population in all the buildings in res_buildings and see if that value matches the optimum function value\n",
    "total_population = 0\n",
    "\n",
    "for i in relevant_res_indices:\n",
    "    total_population += res_population_array[i]\n",
    "\n",
    "\n",
    "print(total_population)\n"
   ]
  },
  {
   "cell_type": "code",
   "execution_count": 111,
   "metadata": {},
   "outputs": [
    {
     "name": "stdout",
     "output_type": "stream",
     "text": [
      "results match and ordering makes sense. What a time to be alive\n"
     ]
    }
   ],
   "source": [
    "if total_population == m.objval:\n",
    "    print('results match and ordering makes sense. What a time to be alive')\n",
    "\n",
    "else:\n",
    "    print('manual and gurobi result value does not match, fix ordering of arrays')"
   ]
  }
 ],
 "metadata": {
  "kernelspec": {
   "display_name": "Python 3.9.7 ('base')",
   "language": "python",
   "name": "python3"
  },
  "language_info": {
   "codemirror_mode": {
    "name": "ipython",
    "version": 3
   },
   "file_extension": ".py",
   "mimetype": "text/x-python",
   "name": "python",
   "nbconvert_exporter": "python",
   "pygments_lexer": "ipython3",
   "version": "3.9.7"
  },
  "orig_nbformat": 4,
  "vscode": {
   "interpreter": {
    "hash": "5d4f5192cbef441c1a91544256fda345f2ac6133655739deabd8e098ce5e8079"
   }
  }
 },
 "nbformat": 4,
 "nbformat_minor": 2
}
