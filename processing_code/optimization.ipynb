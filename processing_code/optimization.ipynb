{
 "cells": [
  {
   "cell_type": "markdown",
   "metadata": {},
   "source": [
    "This notebook performs the optimization task to find the location where a new grocery store should be placed, to maximize access\n",
    "\n",
    "How this works (implementation):\n",
    "\n",
    "1. Use the helper_population_allocation.py to allocate a population count to each residential building (not ready yet, some placeholder function in there)\n",
    "2. Use the helper_distance_calculation.py to calculate existing access and distance between a residential and commercial building\n",
    "3. Once 1 and 2 are done, all parameters are ready. \n",
    "\n",
    "4. Then this notebook does some pre optimization setup and then runs an optimization model in Gurobi. It's pretty anti climatic. \n",
    "\n",
    "Next steps:\n",
    "\n",
    "- Update the population allocation helper file\n",
    "- Figure out the correct ordering of arrays. It's not accurate currently \n"
   ]
  },
  {
   "cell_type": "code",
   "execution_count": 116,
   "metadata": {},
   "outputs": [],
   "source": [
    "# Import libraries\n",
    "import geopandas as gpd\n",
    "import pandas as pd\n",
    "import matplotlib.pyplot as plt\n",
    "import numpy as np\n",
    "import haversine as hs\n",
    "import gurobipy as gp\n",
    "from gurobipy import GRB\n",
    "\n",
    "# Helper modules\n",
    "import helper_population_allocation as pa\n",
    "import helper_distance_calculation as dc\n",
    "\n",
    "# Avoid printing set copy warnings\n",
    "import warnings\n",
    "warnings.filterwarnings(\"ignore\")\n",
    "\n"
   ]
  },
  {
   "cell_type": "markdown",
   "metadata": {},
   "source": [
    "PRE-OPTIMIZATION SETUP"
   ]
  },
  {
   "cell_type": "code",
   "execution_count": 117,
   "metadata": {},
   "outputs": [
    {
     "name": "stdout",
     "output_type": "stream",
     "text": [
      "modified script\n"
     ]
    }
   ],
   "source": [
    "# Get the main buildings dataset \n",
    "buildings_df = gpd.read_file('../processed_data/relevant_buildings.shp')\n",
    "\n",
    "# Create ID variable\n",
    "buildings_df.reset_index(drop=True, inplace=True)\n",
    "buildings_df['building_id'] = buildings_df.index + 1\n",
    "buildings_df['building_id'] = buildings_df.apply(lambda row: str(row['building_id']) + '-' + str(row['CLASS']) , axis=1)\n",
    "\n",
    "buildings_df = buildings_df.sample(n=2000, random_state=1)  # Remove later\n",
    "\n",
    "\n",
    "# Population parameter (Pj)\n",
    "res_population = pa.get_population(geopandas_dataframe=buildings_df) \n",
    "\n",
    "# Existing access parameter (Aj)\n",
    "res_groc_access =  dc.calculate_access(\n",
    "                            geopandas_dataframe=buildings_df,\n",
    "                            building_type_1='Residential',\n",
    "                            building_type_2='Grocery',\n",
    "                            identifier_column='class_reco', \n",
    "                            geo_column='geometry', \n",
    "                            output_format='dataframe'\n",
    ")\n",
    "\n"
   ]
  },
  {
   "cell_type": "code",
   "execution_count": 118,
   "metadata": {},
   "outputs": [
    {
     "name": "stdout",
     "output_type": "stream",
     "text": [
      "modified script\n"
     ]
    }
   ],
   "source": [
    "# Residential- commercial access parameter (Bij)\n",
    "# Run this once, save dataset (will take forever)\n",
    "res_comm_access = dc.calculate_access(\n",
    "                            geopandas_dataframe=buildings_df,\n",
    "                            building_type_1='Residential',\n",
    "                            building_type_2='commercial',\n",
    "                            identifier_column='class_reco', \n",
    "                            geo_column='geometry', \n",
    "                            output_format='dataframe'\n",
    ")\n"
   ]
  },
  {
   "cell_type": "code",
   "execution_count": 119,
   "metadata": {},
   "outputs": [],
   "source": [
    "# Sort data, create arrays for gurobi optimization so that ordering is maintained\n",
    "\n",
    "# Res population\n",
    "res_population = res_population.sort_values('building_id')\n",
    "res_population_array = np.array(res_population[res_population['class_reco'].str.contains('Residential')]['population']) # ith entry corresponds to population at ith residential building \n",
    "\n",
    "# Res access\n",
    "res_groc_access = res_groc_access[['building_idResidential', 'access']].groupby('building_idResidential').max('access').sort_values('building_idResidential')\n",
    "res_access_array = np.array(res_groc_access['access']) # ith entry corresponds to existing access at ith residential building \n",
    "\n",
    "# Res comm access (we will not create a matrix because it messes up ordering. We will directly use the values from the dataframe, but will sort it)\n",
    "res_comm_access = res_comm_access.sort_values(by=['building_idResidential', 'building_idcommercial'])\n",
    "\n",
    "# create a sorted list of all residential building ids\n",
    "res_buildings = np.array(res_population['building_id'])\n",
    "\n",
    "# Create a sorted list of all commercial buildings\n",
    "# Just picking one residential building ID and getting all the associated commercial building IDs for that would do the job\n",
    "# Since this dataframe contains a unique row per residential commercial building pair, sorted by (residential, commercial)\n",
    "comm_buildings = np.array(res_comm_access[res_comm_access['building_idResidential'] == '100022-R']['building_idcommercial'])\n",
    "\n"
   ]
  },
  {
   "cell_type": "code",
   "execution_count": 120,
   "metadata": {},
   "outputs": [
    {
     "data": {
      "text/plain": [
       "array([[0., 1., 1., ..., 0., 1., 1.],\n",
       "       [0., 1., 1., ..., 0., 1., 1.],\n",
       "       [0., 1., 1., ..., 0., 1., 1.],\n",
       "       ...,\n",
       "       [0., 1., 1., ..., 0., 1., 1.],\n",
       "       [0., 1., 1., ..., 0., 1., 1.],\n",
       "       [0., 1., 1., ..., 0., 1., 1.]])"
      ]
     },
     "execution_count": 120,
     "metadata": {},
     "output_type": "execute_result"
    }
   ],
   "source": [
    "# Create a matrix because optimization takes too long otherwise. \n",
    "# Should brainstorm how to make this matrix creation faster. I used pandas.pivot and that works but messes up the ordering\n",
    "\n",
    "res_comm_access_matrix = np.zeros((len(res_buildings), len(comm_buildings)))\n",
    "\n",
    "for i in range(len(res_buildings)):\n",
    "    building_id = res_buildings[i]\n",
    "    insert_array = np.array(res_comm_access[res_comm_access['building_idResidential'] == building_id]['access'])\n",
    "\n",
    "    res_comm_access_matrix[i] = insert_array\n",
    "\n",
    "res_comm_access_matrix\n",
    "\n",
    "\n"
   ]
  },
  {
   "cell_type": "code",
   "execution_count": 121,
   "metadata": {},
   "outputs": [
    {
     "data": {
      "text/plain": [
       "(115, 1881)"
      ]
     },
     "execution_count": 121,
     "metadata": {},
     "output_type": "execute_result"
    }
   ],
   "source": [
    "res_comm_access_matrix.T.shape"
   ]
  },
  {
   "cell_type": "markdown",
   "metadata": {},
   "source": [
    "OPTIMIZATION\n",
    "\n",
    "Steps:\n",
    "i = set of all commercial buildings\n",
    "j = set of all residential buildings\n",
    "\n",
    "Decision variable:\n",
    "- Ci = 1 if the new grocery store is put in commercial building i, 0 otherwise\n",
    "\n",
    "Parameters:\n",
    "- Aj = 1 if residential building j already has access to a food store (within 1 mile)\n",
    "- Bij = 1 if commercial building i is within 1 mile of residential building j\n",
    "- Pj = Population at building j\n",
    "\n",
    "Objective function:\n",
    "\n",
    "Max $$ \\sum_i \\sum_j (1-A_j)*P_j*B_{ij}*C_i$$\n",
    "\n",
    "Constraint (only 1 grocery store location being allocated):\n",
    "$$ \\sum_i C_i = 1$$\n",
    "\n",
    "\n",
    "\n"
   ]
  },
  {
   "cell_type": "code",
   "execution_count": 122,
   "metadata": {},
   "outputs": [
    {
     "name": "stdout",
     "output_type": "stream",
     "text": [
      "decision vars added\n",
      "objective function set\n",
      "constraints added\n"
     ]
    }
   ],
   "source": [
    "########################################\n",
    "# SET UP MODEL\n",
    "########################################\n",
    "\n",
    "m = gp.Model(\"food_access\")\n",
    "\n",
    "num_commercial_buildings = len(comm_buildings)\n",
    "num_residential_buildings = len(res_buildings)\n",
    "\n",
    "\n",
    "########################################\n",
    "# ASSIGN DECISION VARIABLES\n",
    "########################################\n",
    "\n",
    "c_i = m.addVars(range(num_commercial_buildings), vtype=GRB.BINARY)\n",
    "\n",
    "print('decision vars added')\n",
    "\n",
    "#######################################\n",
    "# OBJECTIVE FUNCTION\n",
    "########################################\n",
    "\n",
    "m.setObjective(sum(((1-res_access_array[j]) \n",
    "                        * res_population_array[j] \n",
    "                        * res_comm_access_matrix.T[i,j]\n",
    "                        * c_i[i] \n",
    "                    for j in range(num_residential_buildings) \n",
    "                for i in range(num_commercial_buildings))))\n",
    "m.modelSense = GRB.MAXIMIZE\n",
    "\n",
    "print('objective function set')\n",
    "\n",
    "########################################\n",
    "# CONSTRAINTS\n",
    "########################################\n",
    "\n",
    "m.addConstr(sum(c_i[i] for i in range(num_commercial_buildings)) ==  1) \n",
    "\n",
    "print('constraints added')\n"
   ]
  },
  {
   "cell_type": "code",
   "execution_count": 123,
   "metadata": {},
   "outputs": [
    {
     "name": "stdout",
     "output_type": "stream",
     "text": [
      "Gurobi Optimizer version 9.5.2 build v9.5.2rc0 (win64)\n",
      "Thread count: 4 physical cores, 8 logical processors, using up to 8 threads\n",
      "Optimize a model with 1 rows, 115 columns and 115 nonzeros\n",
      "Model fingerprint: 0x1b5356fe\n",
      "Variable types: 0 continuous, 115 integer (115 binary)\n",
      "Coefficient statistics:\n",
      "  Matrix range     [1e+00, 1e+00]\n",
      "  Objective range  [1e+00, 7e+02]\n",
      "  Bounds range     [1e+00, 1e+00]\n",
      "  RHS range        [1e+00, 1e+00]\n",
      "Found heuristic solution: objective 495.0000000\n",
      "Presolve removed 1 rows and 115 columns\n",
      "Presolve time: 0.00s\n",
      "Presolve: All rows and columns removed\n",
      "\n",
      "Explored 0 nodes (0 simplex iterations) in 0.01 seconds (0.00 work units)\n",
      "Thread count was 1 (of 8 available processors)\n",
      "\n",
      "Solution count 2: 655 495 \n",
      "\n",
      "Optimal solution found (tolerance 1.00e-04)\n",
      "Best objective 6.550000000000e+02, best bound 6.550000000000e+02, gap 0.0000%\n"
     ]
    }
   ],
   "source": [
    "# Optimize and see results\n",
    "m.optimize()"
   ]
  },
  {
   "cell_type": "markdown",
   "metadata": {},
   "source": [
    "ORDERING OF ARRAYS SANITY CHECK"
   ]
  },
  {
   "cell_type": "code",
   "execution_count": 124,
   "metadata": {},
   "outputs": [
    {
     "name": "stdout",
     "output_type": "stream",
     "text": [
      "Total new population with access = 655.0\n",
      "store should be placed in commercial building 32\n"
     ]
    }
   ],
   "source": [
    "# New population impacted\n",
    "print(f\"Total new population with access = {m.objVal}\")\n",
    "\n",
    "# Where is the store being placed (need a better way than this forloop)\n",
    "store_location_index = 0\n",
    "for i in range(num_commercial_buildings):\n",
    "    if c_i[i].x == 1:\n",
    "        store_location_index = i\n",
    "        print(f\"store should be placed in commercial building {i}\")\n",
    "\n"
   ]
  },
  {
   "cell_type": "code",
   "execution_count": 125,
   "metadata": {},
   "outputs": [
    {
     "data": {
      "text/plain": [
       "'25316-C'"
      ]
     },
     "execution_count": 125,
     "metadata": {},
     "output_type": "execute_result"
    }
   ],
   "source": [
    "comm_buildings[32]"
   ]
  },
  {
   "cell_type": "code",
   "execution_count": 126,
   "metadata": {},
   "outputs": [
    {
     "name": "stdout",
     "output_type": "stream",
     "text": [
      "The chosen building id is 25316-C\n"
     ]
    }
   ],
   "source": [
    "# Now let's check if the ordering makes sense. \n",
    "\n",
    "# Which building is this\n",
    "# Since the res_com_access has a row per unique residential and commercial building combination, let's just find the 59th commercial building for the first residential building\n",
    "chosen_building_id = comm_buildings[store_location_index]\n",
    "print(f\"The chosen building id is {chosen_building_id}\")"
   ]
  },
  {
   "cell_type": "code",
   "execution_count": 127,
   "metadata": {},
   "outputs": [
    {
     "data": {
      "text/html": [
       "<div>\n",
       "<style scoped>\n",
       "    .dataframe tbody tr th:only-of-type {\n",
       "        vertical-align: middle;\n",
       "    }\n",
       "\n",
       "    .dataframe tbody tr th {\n",
       "        vertical-align: top;\n",
       "    }\n",
       "\n",
       "    .dataframe thead th {\n",
       "        text-align: right;\n",
       "    }\n",
       "</style>\n",
       "<table border=\"1\" class=\"dataframe\">\n",
       "  <thead>\n",
       "    <tr style=\"text-align: right;\">\n",
       "      <th></th>\n",
       "      <th>geoid_Residential</th>\n",
       "      <th>tract_id_Residential</th>\n",
       "      <th>Residential_coordinates</th>\n",
       "      <th>building_idResidential</th>\n",
       "      <th>geoid_commercial</th>\n",
       "      <th>tract_id_commercial</th>\n",
       "      <th>commercial_coordinates</th>\n",
       "      <th>building_idcommercial</th>\n",
       "      <th>distance</th>\n",
       "      <th>access</th>\n",
       "      <th>existing_access</th>\n",
       "    </tr>\n",
       "  </thead>\n",
       "  <tbody>\n",
       "    <tr>\n",
       "      <th>0</th>\n",
       "      <td>420031303003</td>\n",
       "      <td>130300</td>\n",
       "      <td>(-79.8942185836958, 40.453568268060074)</td>\n",
       "      <td>102916-R</td>\n",
       "      <td>420031405003</td>\n",
       "      <td>140500</td>\n",
       "      <td>(-79.8932043626825, 40.44669046543195)</td>\n",
       "      <td>25316-C</td>\n",
       "      <td>0.108923</td>\n",
       "      <td>1</td>\n",
       "      <td>0</td>\n",
       "    </tr>\n",
       "    <tr>\n",
       "      <th>1</th>\n",
       "      <td>420031303003</td>\n",
       "      <td>130300</td>\n",
       "      <td>(-79.89251943069462, 40.45325623508251)</td>\n",
       "      <td>102928-R</td>\n",
       "      <td>420031405003</td>\n",
       "      <td>140500</td>\n",
       "      <td>(-79.8932043626825, 40.44669046543195)</td>\n",
       "      <td>25316-C</td>\n",
       "      <td>0.092615</td>\n",
       "      <td>1</td>\n",
       "      <td>0</td>\n",
       "    </tr>\n",
       "    <tr>\n",
       "      <th>2</th>\n",
       "      <td>420031303003</td>\n",
       "      <td>130300</td>\n",
       "      <td>(-79.89269068954871, 40.45329912032209)</td>\n",
       "      <td>102991-R</td>\n",
       "      <td>420031405003</td>\n",
       "      <td>140500</td>\n",
       "      <td>(-79.8932043626825, 40.44669046543195)</td>\n",
       "      <td>25316-C</td>\n",
       "      <td>0.087639</td>\n",
       "      <td>1</td>\n",
       "      <td>0</td>\n",
       "    </tr>\n",
       "    <tr>\n",
       "      <th>3</th>\n",
       "      <td>420031303003</td>\n",
       "      <td>130300</td>\n",
       "      <td>(-79.90145004872258, 40.45535258082362)</td>\n",
       "      <td>103008-R</td>\n",
       "      <td>420031405003</td>\n",
       "      <td>140500</td>\n",
       "      <td>(-79.8932043626825, 40.44669046543195)</td>\n",
       "      <td>25316-C</td>\n",
       "      <td>0.579315</td>\n",
       "      <td>1</td>\n",
       "      <td>0</td>\n",
       "    </tr>\n",
       "    <tr>\n",
       "      <th>4</th>\n",
       "      <td>420031303003</td>\n",
       "      <td>130300</td>\n",
       "      <td>(-79.8948844781098, 40.45586654503308)</td>\n",
       "      <td>103017-R</td>\n",
       "      <td>420031405003</td>\n",
       "      <td>140500</td>\n",
       "      <td>(-79.8932043626825, 40.44669046543195)</td>\n",
       "      <td>25316-C</td>\n",
       "      <td>0.160785</td>\n",
       "      <td>1</td>\n",
       "      <td>0</td>\n",
       "    </tr>\n",
       "    <tr>\n",
       "      <th>...</th>\n",
       "      <td>...</td>\n",
       "      <td>...</td>\n",
       "      <td>...</td>\n",
       "      <td>...</td>\n",
       "      <td>...</td>\n",
       "      <td>...</td>\n",
       "      <td>...</td>\n",
       "      <td>...</td>\n",
       "      <td>...</td>\n",
       "      <td>...</td>\n",
       "      <td>...</td>\n",
       "    </tr>\n",
       "    <tr>\n",
       "      <th>131</th>\n",
       "      <td>420031203002</td>\n",
       "      <td>120300</td>\n",
       "      <td>(-79.89838071561871, 40.46802040211525)</td>\n",
       "      <td>49653-R</td>\n",
       "      <td>420031405003</td>\n",
       "      <td>140500</td>\n",
       "      <td>(-79.8932043626825, 40.44669046543195)</td>\n",
       "      <td>25316-C</td>\n",
       "      <td>0.441322</td>\n",
       "      <td>1</td>\n",
       "      <td>0</td>\n",
       "    </tr>\n",
       "    <tr>\n",
       "      <th>132</th>\n",
       "      <td>420031203002</td>\n",
       "      <td>120300</td>\n",
       "      <td>(-79.90451871677017, 40.467196830576924)</td>\n",
       "      <td>49690-R</td>\n",
       "      <td>420031405003</td>\n",
       "      <td>140500</td>\n",
       "      <td>(-79.8932043626825, 40.44669046543195)</td>\n",
       "      <td>25316-C</td>\n",
       "      <td>0.820292</td>\n",
       "      <td>1</td>\n",
       "      <td>0</td>\n",
       "    </tr>\n",
       "    <tr>\n",
       "      <th>133</th>\n",
       "      <td>420031203002</td>\n",
       "      <td>120300</td>\n",
       "      <td>(-79.89842440100014, 40.46811326524014)</td>\n",
       "      <td>49707-R</td>\n",
       "      <td>420031405003</td>\n",
       "      <td>140500</td>\n",
       "      <td>(-79.8932043626825, 40.44669046543195)</td>\n",
       "      <td>25316-C</td>\n",
       "      <td>0.444428</td>\n",
       "      <td>1</td>\n",
       "      <td>0</td>\n",
       "    </tr>\n",
       "    <tr>\n",
       "      <th>134</th>\n",
       "      <td>420031203002</td>\n",
       "      <td>120300</td>\n",
       "      <td>(-79.90326537627557, 40.4688209213872)</td>\n",
       "      <td>49728-R</td>\n",
       "      <td>420031405003</td>\n",
       "      <td>140500</td>\n",
       "      <td>(-79.8932043626825, 40.44669046543195)</td>\n",
       "      <td>25316-C</td>\n",
       "      <td>0.745092</td>\n",
       "      <td>1</td>\n",
       "      <td>0</td>\n",
       "    </tr>\n",
       "    <tr>\n",
       "      <th>135</th>\n",
       "      <td>420039818001</td>\n",
       "      <td>981800</td>\n",
       "      <td>(-79.88842117510295, 40.47501107114211)</td>\n",
       "      <td>50579-R</td>\n",
       "      <td>420031405003</td>\n",
       "      <td>140500</td>\n",
       "      <td>(-79.8932043626825, 40.44669046543195)</td>\n",
       "      <td>25316-C</td>\n",
       "      <td>0.476641</td>\n",
       "      <td>1</td>\n",
       "      <td>0</td>\n",
       "    </tr>\n",
       "  </tbody>\n",
       "</table>\n",
       "<p>134 rows × 11 columns</p>\n",
       "</div>"
      ],
      "text/plain": [
       "    geoid_Residential tract_id_Residential  \\\n",
       "0        420031303003               130300   \n",
       "1        420031303003               130300   \n",
       "2        420031303003               130300   \n",
       "3        420031303003               130300   \n",
       "4        420031303003               130300   \n",
       "..                ...                  ...   \n",
       "131      420031203002               120300   \n",
       "132      420031203002               120300   \n",
       "133      420031203002               120300   \n",
       "134      420031203002               120300   \n",
       "135      420039818001               981800   \n",
       "\n",
       "                      Residential_coordinates building_idResidential  \\\n",
       "0     (-79.8942185836958, 40.453568268060074)               102916-R   \n",
       "1     (-79.89251943069462, 40.45325623508251)               102928-R   \n",
       "2     (-79.89269068954871, 40.45329912032209)               102991-R   \n",
       "3     (-79.90145004872258, 40.45535258082362)               103008-R   \n",
       "4      (-79.8948844781098, 40.45586654503308)               103017-R   \n",
       "..                                        ...                    ...   \n",
       "131   (-79.89838071561871, 40.46802040211525)                49653-R   \n",
       "132  (-79.90451871677017, 40.467196830576924)                49690-R   \n",
       "133   (-79.89842440100014, 40.46811326524014)                49707-R   \n",
       "134    (-79.90326537627557, 40.4688209213872)                49728-R   \n",
       "135   (-79.88842117510295, 40.47501107114211)                50579-R   \n",
       "\n",
       "    geoid_commercial tract_id_commercial  \\\n",
       "0       420031405003              140500   \n",
       "1       420031405003              140500   \n",
       "2       420031405003              140500   \n",
       "3       420031405003              140500   \n",
       "4       420031405003              140500   \n",
       "..               ...                 ...   \n",
       "131     420031405003              140500   \n",
       "132     420031405003              140500   \n",
       "133     420031405003              140500   \n",
       "134     420031405003              140500   \n",
       "135     420031405003              140500   \n",
       "\n",
       "                     commercial_coordinates building_idcommercial  distance  \\\n",
       "0    (-79.8932043626825, 40.44669046543195)               25316-C  0.108923   \n",
       "1    (-79.8932043626825, 40.44669046543195)               25316-C  0.092615   \n",
       "2    (-79.8932043626825, 40.44669046543195)               25316-C  0.087639   \n",
       "3    (-79.8932043626825, 40.44669046543195)               25316-C  0.579315   \n",
       "4    (-79.8932043626825, 40.44669046543195)               25316-C  0.160785   \n",
       "..                                      ...                   ...       ...   \n",
       "131  (-79.8932043626825, 40.44669046543195)               25316-C  0.441322   \n",
       "132  (-79.8932043626825, 40.44669046543195)               25316-C  0.820292   \n",
       "133  (-79.8932043626825, 40.44669046543195)               25316-C  0.444428   \n",
       "134  (-79.8932043626825, 40.44669046543195)               25316-C  0.745092   \n",
       "135  (-79.8932043626825, 40.44669046543195)               25316-C  0.476641   \n",
       "\n",
       "     access  existing_access  \n",
       "0         1                0  \n",
       "1         1                0  \n",
       "2         1                0  \n",
       "3         1                0  \n",
       "4         1                0  \n",
       "..      ...              ...  \n",
       "131       1                0  \n",
       "132       1                0  \n",
       "133       1                0  \n",
       "134       1                0  \n",
       "135       1                0  \n",
       "\n",
       "[134 rows x 11 columns]"
      ]
     },
     "execution_count": 127,
     "metadata": {},
     "output_type": "execute_result"
    }
   ],
   "source": [
    "# Which Residential buildings have access to this building and don't have current access\n",
    "res_buildings = res_comm_access[res_comm_access['building_idcommercial']==chosen_building_id]\n",
    "res_buildings = res_buildings[res_comm_access['access']==1]\n",
    "\n",
    "# Removing buildings which have existing access\n",
    "res_groc_access = res_groc_access.reset_index().rename(columns={'access':'existing_access'})\n",
    "res_buildings = pd.merge(res_buildings, res_groc_access, on ='building_idResidential', how='inner')\n",
    "\n",
    "res_buildings = res_buildings[res_buildings['existing_access'] == 0]\n",
    "res_buildings"
   ]
  },
  {
   "cell_type": "code",
   "execution_count": 128,
   "metadata": {},
   "outputs": [
    {
     "data": {
      "text/plain": [
       "655"
      ]
     },
     "execution_count": 128,
     "metadata": {},
     "output_type": "execute_result"
    }
   ],
   "source": [
    "# Lets add up the population in all the buildings in res_buildings and see if that value matches the optimum function value\n",
    "res_population.rename(columns={'building_id': \"building_idResidential\"},inplace=True)\n",
    "res_buildings_pop = pd.merge(res_buildings, res_population, on ='building_idResidential', how='inner')\n",
    "np.sum(res_buildings_pop['population'])"
   ]
  },
  {
   "cell_type": "code",
   "execution_count": 129,
   "metadata": {},
   "outputs": [
    {
     "name": "stdout",
     "output_type": "stream",
     "text": [
      "results match and ordering makes sense. What a time to be alive\n"
     ]
    }
   ],
   "source": [
    "if np.sum(res_buildings_pop['population']) == m.objval:\n",
    "    print('results match and ordering makes sense. What a time to be alive')\n",
    "\n",
    "else:\n",
    "    print('manual and gurobi result value does not match, fix ordering of arrays')"
   ]
  }
 ],
 "metadata": {
  "kernelspec": {
   "display_name": "Python 3.9.7 ('base')",
   "language": "python",
   "name": "python3"
  },
  "language_info": {
   "codemirror_mode": {
    "name": "ipython",
    "version": 3
   },
   "file_extension": ".py",
   "mimetype": "text/x-python",
   "name": "python",
   "nbconvert_exporter": "python",
   "pygments_lexer": "ipython3",
   "version": "3.9.7"
  },
  "orig_nbformat": 4,
  "vscode": {
   "interpreter": {
    "hash": "5d4f5192cbef441c1a91544256fda345f2ac6133655739deabd8e098ce5e8079"
   }
  }
 },
 "nbformat": 4,
 "nbformat_minor": 2
}
